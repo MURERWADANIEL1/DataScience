{
 "cells": [
  {
   "cell_type": "markdown",
   "id": "f52cb35e",
   "metadata": {},
   "source": [
    "NESTING"
   ]
  },
  {
   "cell_type": "code",
   "execution_count": 4,
   "id": "9ca643a5",
   "metadata": {},
   "outputs": [
    {
     "name": "stdout",
     "output_type": "stream",
     "text": [
      "Keys: name\n",
      "Keys: position\n",
      "Keys: name\n",
      "Keys: position\n",
      "Keys: name\n",
      "Keys: position\n"
     ]
    }
   ],
   "source": [
    "profile1={'name': 'Dan','position':'Eng'}\n",
    "profile1\n",
    "profile2={'name':'Murerwa', 'position':'Technician'}\n",
    "profile2\n",
    "profile3={'name':'Mugisha','position':'Manager'}\n",
    "profile3\n",
    "\n",
    "for key in profile1:\n",
    "    print(f'Keys: {key}')\n",
    "for key in profile2:\n",
    "    print(f'Keys: {key}')\n",
    "for key in profile3:\n",
    "    print(f'Keys: {key}')"
   ]
  },
  {
   "cell_type": "code",
   "execution_count": 6,
   "id": "6487987d",
   "metadata": {},
   "outputs": [
    {
     "name": "stdout",
     "output_type": "stream",
     "text": [
      "Name: Dan\n",
      "Position: Eng\n",
      "------------------\n",
      "Name: Murerwa\n",
      "Position: Technician\n",
      "------------------\n",
      "Name: Mugisha\n",
      "Position: Manager\n",
      "------------------\n"
     ]
    }
   ],
   "source": [
    "profile=[profile1,profile2,profile3]\n",
    "profile\n",
    "for profile in profile:\n",
    "    print(f'Name: {profile[\"name\"]}')\n",
    "    print(f'Position: {profile[\"position\"]}')\n",
    "    print('------------------')"
   ]
  },
  {
   "cell_type": "code",
   "execution_count": 15,
   "id": "1b8ba5c5",
   "metadata": {},
   "outputs": [
    {
     "data": {
      "text/plain": [
       "{'name': 'Eugene',\n",
       " 'position': 'IT specialist',\n",
       " 'profile': ['hardworking', 'team player', 'professional']}"
      ]
     },
     "execution_count": 15,
     "metadata": {},
     "output_type": "execute_result"
    }
   ],
   "source": [
    "profile_eng={'name': 'Dan',\n",
    "'profile': ['rich', 'technical', 'professional']}\n",
    "profile_eng\n",
    "profile_eng_tech={'name':'Kim', 'position': 'team leadr',\n",
    "'profile': ['calm', 'hardworking', 'profesional']}\n",
    "profile_eng_tech\n",
    "profile_pro_eng={'name':'Eugene', 'position':'IT specialist',\n",
    "'profile':['hardworking', 'team player', 'professional']}\n",
    "profile_pro_eng"
   ]
  }
 ],
 "metadata": {
  "kernelspec": {
   "display_name": "Python 3",
   "language": "python",
   "name": "python3"
  },
  "language_info": {
   "codemirror_mode": {
    "name": "ipython",
    "version": 3
   },
   "file_extension": ".py",
   "mimetype": "text/x-python",
   "name": "python",
   "nbconvert_exporter": "python",
   "pygments_lexer": "ipython3",
   "version": "3.11.9"
  }
 },
 "nbformat": 4,
 "nbformat_minor": 5
}
