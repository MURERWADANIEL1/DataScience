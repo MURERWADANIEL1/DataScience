{
 "cells": [
  {
   "cell_type": "markdown",
   "id": "c38a5f9b-2fea-48d6-9d97-c41dd4ad604e",
   "metadata": {},
   "source": [
    "1. \n",
    "Each of the following variable assignments has something wrong. Identify the error and correct it."
   ]
  },
  {
   "cell_type": "code",
   "execution_count": null,
   "id": "7cdb9863-55c2-4815-ae05-d9493c70f4f8",
   "metadata": {},
   "outputs": [],
   "source": [
    "1number = 5"
   ]
  },
  {
   "cell_type": "code",
   "execution_count": null,
   "id": "d23f6ead-d69f-462c-a101-03f22c876dae",
   "metadata": {},
   "outputs": [],
   "source": [
    "my-name = \"Ada\""
   ]
  },
  {
   "cell_type": "code",
   "execution_count": null,
   "id": "0a639611-3a35-43a8-9a9c-ffed0e635b3c",
   "metadata": {},
   "outputs": [],
   "source": [
    "print = 10"
   ]
  },
  {
   "cell_type": "code",
   "execution_count": null,
   "id": "c0cb19c7-e94f-4255-98c2-064a279d8596",
   "metadata": {},
   "outputs": [],
   "source": [
    "total sum = 300"
   ]
  },
  {
   "cell_type": "code",
   "execution_count": null,
   "id": "de3f5049-3411-43c9-9f03-a27363ad3b39",
   "metadata": {},
   "outputs": [],
   "source": [
    "age = \"25"
   ]
  },
  {
   "cell_type": "markdown",
   "id": "b9701b00-b5d4-403b-b2b8-015e5a9ca6e8",
   "metadata": {},
   "source": [
    "2. \n",
    "\n",
    "A young entrepreneur named Zara sells handmade beaded bracelets.\n",
    "\n",
    "- She sells each bracelet for ₦750\n",
    "\n",
    "- She made 20 bracelets this week\n",
    "\n",
    "- She spent ₦3,000 on materials\n",
    "\n",
    "- She also spent ₦1,500 on delivery and ₦500 on packaging\n",
    "\n",
    "- She gave a ₦250 discount to one customer\n",
    "\n",
    "- She plans to save 20% of her profit\n",
    "\n",
    "Tasks:\n",
    "\n",
    "a. Create variables to represent all the details above. Use descriptive variable names.\n",
    "\n",
    "b. Calculate:\n",
    "\n",
    "- Zara’s total income\n",
    "\n",
    "- Zara’s total expenses\n",
    "\n",
    "- Her actual profit after the discount\n",
    "\n",
    "- How much she will save from her profit"
   ]
  },
  {
   "cell_type": "markdown",
   "id": "0a639dd8-92df-42aa-9e2f-5370753a38a6",
   "metadata": {},
   "source": [
    "3. Each of the following lines has a problem related to how strings work in Python. Identify and fix the problem."
   ]
  },
  {
   "cell_type": "code",
   "execution_count": null,
   "id": "a131f824-d98f-4c73-8759-b1898ee87913",
   "metadata": {},
   "outputs": [],
   "source": [
    "greeting = 'Hello, my name is John and I’m learning Python.'"
   ]
  },
  {
   "cell_type": "code",
   "execution_count": null,
   "id": "ce0114ca-4a5b-4cab-86d6-8556a6368e90",
   "metadata": {},
   "outputs": [],
   "source": [
    "quote = \"She said, \"Python is easy to learn.\" \""
   ]
  },
  {
   "cell_type": "code",
   "execution_count": null,
   "id": "1c1a732c-2a36-461a-9feb-e4f579ebb944",
   "metadata": {},
   "outputs": [],
   "source": [
    "name = 'Musa'\n",
    "print(\"Hello\" + name)"
   ]
  },
  {
   "cell_type": "code",
   "execution_count": null,
   "id": "08e96406-4b45-4528-b37a-09c99cf97727",
   "metadata": {},
   "outputs": [],
   "source": [
    "story = \"Today was a good day,\n",
    "I learned about variables.\""
   ]
  },
  {
   "cell_type": "code",
   "execution_count": 12,
   "id": "8f721909-c3a8-46b1-a187-cf3b4a4045a8",
   "metadata": {},
   "outputs": [
    {
     "name": "stdout",
     "output_type": "stream",
     "text": [
      "Introduction to python\n"
     ]
    }
   ],
   "source": [
    "title = \"introduction to python\"\n",
    "print(title.capitalize())\n",
    "# Expected output: Introduction To Python"
   ]
  },
  {
   "cell_type": "markdown",
   "id": "b744bd55-09d4-4d8c-972f-91721f937ed0",
   "metadata": {},
   "source": [
    "4. Section D: Lists\n",
    "Create a list of five items Zara might need to buy to continue her bracelet business (e.g., beads, strings, glue...).\n",
    "\n",
    "Write Python code to:\n",
    "a. Print the first and last item in the list\n",
    "b. Add a new item to the list\n",
    "c. Remove one item from the list\n",
    "d. Print the number of items in the list"
   ]
  }
 ],
 "metadata": {
  "kernelspec": {
   "display_name": "Python [conda env:base] *",
   "language": "python",
   "name": "conda-base-py"
  },
  "language_info": {
   "codemirror_mode": {
    "name": "ipython",
    "version": 3
   },
   "file_extension": ".py",
   "mimetype": "text/x-python",
   "name": "python",
   "nbconvert_exporter": "python",
   "pygments_lexer": "ipython3",
   "version": "3.12.7"
  }
 },
 "nbformat": 4,
 "nbformat_minor": 5
}
