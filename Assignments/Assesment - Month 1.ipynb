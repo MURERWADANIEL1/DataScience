{
 "cells": [
  {
   "cell_type": "markdown",
   "id": "c38a5f9b-2fea-48d6-9d97-c41dd4ad604e",
   "metadata": {},
   "source": [
    "1. \n",
    "Each of the following variable assignments has something wrong. Identify the error and correct it."
   ]
  },
  {
   "cell_type": "code",
   "execution_count": 8,
   "id": "7cdb9863-55c2-4815-ae05-d9493c70f4f8",
   "metadata": {},
   "outputs": [
    {
     "data": {
      "text/plain": [
       "5"
      ]
     },
     "execution_count": 8,
     "metadata": {},
     "output_type": "execute_result"
    }
   ],
   "source": [
    "#starting variale with a numeral\n",
    "\n",
    "number = 5\n",
    "number"
   ]
  },
  {
   "cell_type": "code",
   "execution_count": 9,
   "id": "d23f6ead-d69f-462c-a101-03f22c876dae",
   "metadata": {},
   "outputs": [
    {
     "data": {
      "text/plain": [
       "'Ada'"
      ]
     },
     "execution_count": 9,
     "metadata": {},
     "output_type": "execute_result"
    }
   ],
   "source": [
    "#doesn't follow rules for assigning variable names\n",
    "\n",
    "my_name = \"Ada\"\n",
    "my_name"
   ]
  },
  {
   "cell_type": "code",
   "execution_count": 14,
   "id": "0a639611-3a35-43a8-9a9c-ffed0e635b3c",
   "metadata": {},
   "outputs": [],
   "source": [
    "#print is a keyword can-t be a variable\n",
    "\n",
    "\n",
    "print_1 = 10"
   ]
  },
  {
   "cell_type": "code",
   "execution_count": 16,
   "id": "c0cb19c7-e94f-4255-98c2-064a279d8596",
   "metadata": {},
   "outputs": [
    {
     "data": {
      "text/plain": [
       "300"
      ]
     },
     "execution_count": 16,
     "metadata": {},
     "output_type": "execute_result"
    }
   ],
   "source": [
    "\n",
    "#space between variable name\n",
    "total_sum = 300\n",
    "total_sum"
   ]
  },
  {
   "cell_type": "code",
   "execution_count": 18,
   "id": "de3f5049-3411-43c9-9f03-a27363ad3b39",
   "metadata": {},
   "outputs": [
    {
     "data": {
      "text/plain": [
       "'25'"
      ]
     },
     "execution_count": 18,
     "metadata": {},
     "output_type": "execute_result"
    }
   ],
   "source": [
    "#missing quotation mark at the end of the string\n",
    "\n",
    "age = \"25\"\n",
    "age"
   ]
  },
  {
   "cell_type": "markdown",
   "id": "b9701b00-b5d4-403b-b2b8-015e5a9ca6e8",
   "metadata": {},
   "source": [
    "2. \n",
    "\n",
    "A young entrepreneur named Zara sells handmade beaded bracelets.\n",
    "\n",
    "- She sells each bracelet for ₦750\n",
    "\n",
    "- She made 20 bracelets this week\n",
    "\n",
    "- She spent ₦3,000 on materials\n",
    "\n",
    "- She also spent ₦1,500 on delivery and ₦500 on packaging\n",
    "\n",
    "- She gave a ₦250 discount to one customer\n",
    "\n",
    "- She plans to save 20% of her profit\n",
    "\n",
    "Tasks:\n",
    "\n",
    "a. Create variables to represent all the details above. Use descriptive variable names.\n",
    "\n",
    "b. Calculate:\n",
    "\n",
    "- Zara’s total income\n",
    "\n",
    "- Zara’s total expenses\n",
    "\n",
    "- Her actual profit after the discount\n",
    "\n",
    "- How much she will save from her profit"
   ]
  },
  {
   "cell_type": "markdown",
   "id": "46680359",
   "metadata": {},
   "source": [
    "part a"
   ]
  },
  {
   "cell_type": "code",
   "execution_count": 25,
   "id": "0e292fba",
   "metadata": {},
   "outputs": [],
   "source": [
    "#creating variables\n",
    "\n",
    "price_for_each_bracelet=750\n",
    "bracelets_made_this_week=20\n",
    "cost_of_materials=3000\n",
    "delivery_cost=1500\n",
    "packaging_cost=500\n",
    "discount=250\n",
    "percent_saved=0.2\n",
    "#20% to be saved"
   ]
  },
  {
   "cell_type": "markdown",
   "id": "631ceecc",
   "metadata": {},
   "source": [
    "part b"
   ]
  },
  {
   "cell_type": "code",
   "execution_count": 21,
   "id": "bcb139d2",
   "metadata": {},
   "outputs": [
    {
     "data": {
      "text/plain": [
       "15000"
      ]
     },
     "execution_count": 21,
     "metadata": {},
     "output_type": "execute_result"
    }
   ],
   "source": [
    "#total income\n",
    "zara_income=price_for_each_bracelet*bracelets_made_this_week\n",
    "zara_income"
   ]
  },
  {
   "cell_type": "code",
   "execution_count": 22,
   "id": "f2e2db6e",
   "metadata": {},
   "outputs": [
    {
     "data": {
      "text/plain": [
       "5000"
      ]
     },
     "execution_count": 22,
     "metadata": {},
     "output_type": "execute_result"
    }
   ],
   "source": [
    "#total expenses\n",
    "zara_expenses=cost_of_materials+delivery_cost+packaging_cost\n",
    "zara_expenses"
   ]
  },
  {
   "cell_type": "code",
   "execution_count": 24,
   "id": "25bd4cae",
   "metadata": {},
   "outputs": [
    {
     "data": {
      "text/plain": [
       "9750"
      ]
     },
     "execution_count": 24,
     "metadata": {},
     "output_type": "execute_result"
    }
   ],
   "source": [
    "zara_profit=zara_income-zara_expenses-discount\n",
    "zara_profit"
   ]
  },
  {
   "cell_type": "code",
   "execution_count": 27,
   "id": "8bc617c3",
   "metadata": {},
   "outputs": [
    {
     "data": {
      "text/plain": [
       "1950.0"
      ]
     },
     "execution_count": 27,
     "metadata": {},
     "output_type": "execute_result"
    }
   ],
   "source": [
    "profit_saved=percent_saved*zara_profit\n",
    "profit_saved"
   ]
  },
  {
   "cell_type": "markdown",
   "id": "0a639dd8-92df-42aa-9e2f-5370753a38a6",
   "metadata": {},
   "source": [
    "3. Each of the following lines has a problem related to how strings work in Python. Identify and fix the problem."
   ]
  },
  {
   "cell_type": "code",
   "execution_count": 29,
   "id": "a131f824-d98f-4c73-8759-b1898ee87913",
   "metadata": {},
   "outputs": [
    {
     "data": {
      "text/plain": [
       "'Hello, my name is John and I’m learning Python.'"
      ]
     },
     "execution_count": 29,
     "metadata": {},
     "output_type": "execute_result"
    }
   ],
   "source": [
    "#having the apostrophe in the name, use of double qoutes will solve this\n",
    "greeting = \"Hello, my name is John and I’m learning Python.\"\n",
    "greeting"
   ]
  },
  {
   "cell_type": "code",
   "execution_count": 31,
   "id": "ce0114ca-4a5b-4cab-86d6-8556a6368e90",
   "metadata": {},
   "outputs": [
    {
     "data": {
      "text/plain": [
       "'She said, \"Python is easy to learn.\" '"
      ]
     },
     "execution_count": 31,
     "metadata": {},
     "output_type": "execute_result"
    }
   ],
   "source": [
    "#could use either single or double quotes for string and the other for the speech\n",
    "quote = 'She said, \"Python is easy to learn.\" '\n",
    "quote"
   ]
  },
  {
   "cell_type": "code",
   "execution_count": 46,
   "id": "1c1a732c-2a36-461a-9feb-e4f579ebb944",
   "metadata": {},
   "outputs": [
    {
     "name": "stdout",
     "output_type": "stream",
     "text": [
      "Hello Musa\n"
     ]
    }
   ],
   "source": [
    "#the print function is not formatted to output the variable name\n",
    "\n",
    "name = 'Musa'\n",
    "print(f\"Hello {name}\")"
   ]
  },
  {
   "cell_type": "code",
   "execution_count": 55,
   "id": "08e96406-4b45-4528-b37a-09c99cf97727",
   "metadata": {},
   "outputs": [
    {
     "data": {
      "text/plain": [
       "'Today was a good day,\\nI learned about variables.'"
      ]
     },
     "execution_count": 55,
     "metadata": {},
     "output_type": "execute_result"
    }
   ],
   "source": [
    "#unterminated sring\n",
    "\n",
    "story = \"\"\"Today was a good day,\n",
    "I learned about variables.\"\"\"\n",
    "story"
   ]
  },
  {
   "cell_type": "code",
   "execution_count": 61,
   "id": "8f721909-c3a8-46b1-a187-cf3b4a4045a8",
   "metadata": {},
   "outputs": [
    {
     "name": "stdout",
     "output_type": "stream",
     "text": [
      "Introduction to python\n"
     ]
    }
   ],
   "source": [
    "title = \"introduction to python\"\n",
    "print(title.capitalize())\n",
    "# Expected output: Introduction To Python"
   ]
  },
  {
   "cell_type": "markdown",
   "id": "b744bd55-09d4-4d8c-972f-91721f937ed0",
   "metadata": {},
   "source": [
    "4. Section D: Lists\n",
    "Create a list of five items Zara might need to buy to continue her bracelet business (e.g., beads, strings, glue...).\n",
    "\n",
    "Write Python code to:\n",
    "a. Print the first and last item in the list\n",
    "b. Add a new item to the list\n",
    "c. Remove one item from the list\n",
    "d. Print the number of items in the list"
   ]
  },
  {
   "cell_type": "code",
   "execution_count": 62,
   "id": "24e30b7a",
   "metadata": {},
   "outputs": [
    {
     "data": {
      "text/plain": [
       "['glue', 'beads', 'strings', 'rubbber bands', 'paints', 'branding tapes']"
      ]
     },
     "execution_count": 62,
     "metadata": {},
     "output_type": "execute_result"
    }
   ],
   "source": [
    "zara_items=['glue','beads','strings', 'rubbber bands', 'paints','branding tapes' ]\n",
    "zara_items"
   ]
  },
  {
   "cell_type": "markdown",
   "id": "165a8782",
   "metadata": {},
   "source": [
    "part a\n"
   ]
  },
  {
   "cell_type": "code",
   "execution_count": 63,
   "id": "451abd92",
   "metadata": {},
   "outputs": [
    {
     "data": {
      "text/plain": [
       "'glue'"
      ]
     },
     "execution_count": 63,
     "metadata": {},
     "output_type": "execute_result"
    }
   ],
   "source": [
    "#first item\n",
    "zara_items[0]"
   ]
  },
  {
   "cell_type": "code",
   "execution_count": 64,
   "id": "bb6516b3",
   "metadata": {},
   "outputs": [
    {
     "data": {
      "text/plain": [
       "'branding tapes'"
      ]
     },
     "execution_count": 64,
     "metadata": {},
     "output_type": "execute_result"
    }
   ],
   "source": [
    "#last item\n",
    "zara_items[-1]"
   ]
  },
  {
   "cell_type": "markdown",
   "id": "9be5be7f",
   "metadata": {},
   "source": [
    "part b"
   ]
  },
  {
   "cell_type": "code",
   "execution_count": 85,
   "id": "e7f122a2",
   "metadata": {},
   "outputs": [
    {
     "data": {
      "text/plain": [
       "['beads',\n",
       " 'strings',\n",
       " 'rubbber bands',\n",
       " 'paints',\n",
       " 'branding tapes',\n",
       " 'gum',\n",
       " 'gum',\n",
       " 'gum',\n",
       " 'gum',\n",
       " 'gum']"
      ]
     },
     "execution_count": 85,
     "metadata": {},
     "output_type": "execute_result"
    }
   ],
   "source": [
    "#adding new item\n",
    "zara_items.append('gum')\n",
    "zara_items\n"
   ]
  },
  {
   "cell_type": "markdown",
   "id": "f47d5c7c",
   "metadata": {},
   "source": [
    "part c"
   ]
  },
  {
   "cell_type": "code",
   "execution_count": 75,
   "id": "43d08168",
   "metadata": {},
   "outputs": [
    {
     "data": {
      "text/plain": [
       "['beads',\n",
       " 'strings',\n",
       " 'rubbber bands',\n",
       " 'paints',\n",
       " 'branding tapes',\n",
       " 'gum',\n",
       " 'gum',\n",
       " 'gum',\n",
       " 'gum',\n",
       " 'gum']"
      ]
     },
     "execution_count": 75,
     "metadata": {},
     "output_type": "execute_result"
    }
   ],
   "source": [
    "#removing item\n",
    "zara_items.pop(0)\n",
    "zara_items"
   ]
  },
  {
   "cell_type": "markdown",
   "id": "fd9bbd5d",
   "metadata": {},
   "source": [
    "part d"
   ]
  },
  {
   "cell_type": "code",
   "execution_count": 89,
   "id": "7b968007",
   "metadata": {},
   "outputs": [
    {
     "name": "stdout",
     "output_type": "stream",
     "text": [
      "There are 10 items in zaras list\n"
     ]
    }
   ],
   "source": [
    "#print items\n",
    "print(f'There are {len(zara_items)} items in zaras list')"
   ]
  }
 ],
 "metadata": {
  "kernelspec": {
   "display_name": "Python 3",
   "language": "python",
   "name": "python3"
  },
  "language_info": {
   "codemirror_mode": {
    "name": "ipython",
    "version": 3
   },
   "file_extension": ".py",
   "mimetype": "text/x-python",
   "name": "python",
   "nbconvert_exporter": "python",
   "pygments_lexer": "ipython3",
   "version": "3.11.9"
  }
 },
 "nbformat": 4,
 "nbformat_minor": 5
}
