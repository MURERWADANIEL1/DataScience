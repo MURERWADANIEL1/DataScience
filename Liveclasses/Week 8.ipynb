{
 "cells": [
  {
   "cell_type": "markdown",
   "id": "743ed8fd-d525-4764-b177-4e04139468e3",
   "metadata": {},
   "source": [
    "- dictionaries: looping through\n",
    "- sets and set operations\n",
    "- input functions\n",
    "- while loops\n",
    "- inventory management system: CRUD"
   ]
  },
  {
   "cell_type": "code",
   "execution_count": 1,
   "id": "2e2f81ed-bd95-4ea9-a53a-c22467e6dba3",
   "metadata": {},
   "outputs": [],
   "source": [
    "scores_dict = {'Divine': 60, 'Ifedayo':65, 'Godwin': 70, 'Yao':75}"
   ]
  },
  {
   "cell_type": "code",
   "execution_count": 3,
   "id": "12a4351f-34e4-4c5c-a68d-db177d06537f",
   "metadata": {},
   "outputs": [
    {
     "data": {
      "text/plain": [
       "dict_items([('Divine', 60), ('Ifedayo', 65), ('Godwin', 70), ('Yao', 75)])"
      ]
     },
     "execution_count": 3,
     "metadata": {},
     "output_type": "execute_result"
    }
   ],
   "source": [
    "scores_dict.items()"
   ]
  },
  {
   "cell_type": "code",
   "execution_count": 4,
   "id": "00eaa507-4542-4ff1-8e7f-d9d14a79e536",
   "metadata": {},
   "outputs": [
    {
     "name": "stdout",
     "output_type": "stream",
     "text": [
      "Divine\n",
      "Ifedayo\n",
      "Godwin\n",
      "Yao\n"
     ]
    }
   ],
   "source": [
    "for name in scores_dict.keys():\n",
    "    print(name)"
   ]
  },
  {
   "cell_type": "code",
   "execution_count": 5,
   "id": "6c0cb32c-ef17-4f33-8dec-252f2ff2249a",
   "metadata": {},
   "outputs": [
    {
     "name": "stdout",
     "output_type": "stream",
     "text": [
      "60\n",
      "65\n",
      "70\n",
      "75\n"
     ]
    }
   ],
   "source": [
    "for score in scores_dict.values():\n",
    "    print(score)"
   ]
  },
  {
   "cell_type": "code",
   "execution_count": 6,
   "id": "80808825-7029-4bf4-9c5a-fec47074fe0d",
   "metadata": {},
   "outputs": [
    {
     "name": "stdout",
     "output_type": "stream",
     "text": [
      "Divine scored 60\n",
      "Ifedayo scored 65\n",
      "Godwin scored 70\n",
      "Yao scored 75\n"
     ]
    }
   ],
   "source": [
    "for name, score in scores_dict.items():\n",
    "    print(f'{name} scored {score}')"
   ]
  },
  {
   "cell_type": "code",
   "execution_count": null,
   "id": "54d9ace7-75c9-49b9-8ce4-32c260878de3",
   "metadata": {},
   "outputs": [
    {
     "ename": "SyntaxError",
     "evalue": "invalid syntax (798335597.py, line 1)",
     "output_type": "error",
     "traceback": [
      "  \u001b[36mCell\u001b[39m\u001b[36m \u001b[39m\u001b[32mIn[7]\u001b[39m\u001b[32m, line 1\u001b[39m\n\u001b[31m    \u001b[39m\u001b[31mSets: unordered collections of unique items\u001b[39m\n                    ^\n\u001b[31mSyntaxError\u001b[39m\u001b[31m:\u001b[39m invalid syntax\n"
     ]
    }
   ],
   "source": [
    "###Sets: unordered collections of unique items"
   ]
  },
  {
   "cell_type": "code",
   "execution_count": 8,
   "id": "759969b4-bfc3-4b56-8106-11f2fcd17df1",
   "metadata": {},
   "outputs": [],
   "source": [
    "class_set = {'Divine', 'Idayah', 'Ifeoluwa', 'Peter', 'Peter', 'Mokaminyo'}"
   ]
  },
  {
   "cell_type": "code",
   "execution_count": 9,
   "id": "de89818a-5dee-4f17-837c-f3b63308c127",
   "metadata": {},
   "outputs": [
    {
     "name": "stdout",
     "output_type": "stream",
     "text": [
      "{'Peter', 'Idayah', 'Divine', 'Ifeoluwa', 'Mokaminyo'}\n"
     ]
    }
   ],
   "source": [
    "print(class_set)"
   ]
  },
  {
   "cell_type": "code",
   "execution_count": 10,
   "id": "abf0089f-908c-43cf-9ca8-fa7b80cf35fa",
   "metadata": {},
   "outputs": [
    {
     "data": {
      "text/plain": [
       "True"
      ]
     },
     "execution_count": 10,
     "metadata": {},
     "output_type": "execute_result"
    }
   ],
   "source": [
    "'Idayah' in class_set # perfoming fast lookup on sets"
   ]
  },
  {
   "cell_type": "code",
   "execution_count": 11,
   "id": "b80642d9-e0a6-40d6-8410-c72e6bfae2a5",
   "metadata": {},
   "outputs": [],
   "source": [
    "chemistry = {'Ada', 'Bola', 'Chris', 'Daniel', 'Godwin'}\n",
    "biology = {'Abdul', 'Bola', 'Christy', 'Daniel', 'Sofiyyah'}"
   ]
  },
  {
   "cell_type": "code",
   "execution_count": 12,
   "id": "195cfe60-4166-47eb-94e5-ad7eb47ab077",
   "metadata": {},
   "outputs": [
    {
     "data": {
      "text/plain": [
       "{'Abdul', 'Ada', 'Bola', 'Chris', 'Christy', 'Daniel', 'Godwin', 'Sofiyyah'}"
      ]
     },
     "execution_count": 12,
     "metadata": {},
     "output_type": "execute_result"
    }
   ],
   "source": [
    "chemistry.union(biology)"
   ]
  },
  {
   "cell_type": "markdown",
   "id": "5d3828a8-7fd5-40b3-8e56-cb9fb65394d6",
   "metadata": {},
   "source": [
    "![Sets](set_operations.png)"
   ]
  },
  {
   "cell_type": "code",
   "execution_count": 13,
   "id": "3e45af09-1175-48b6-9e45-86af45ef1385",
   "metadata": {},
   "outputs": [
    {
     "data": {
      "text/plain": [
       "{'Bola', 'Daniel'}"
      ]
     },
     "execution_count": 13,
     "metadata": {},
     "output_type": "execute_result"
    }
   ],
   "source": [
    "chemistry.intersection(biology)"
   ]
  },
  {
   "cell_type": "code",
   "execution_count": 14,
   "id": "e5bd62ae-2197-4cf8-93c2-926470a48240",
   "metadata": {},
   "outputs": [
    {
     "data": {
      "text/plain": [
       "{'Ada', 'Chris', 'Godwin'}"
      ]
     },
     "execution_count": 14,
     "metadata": {},
     "output_type": "execute_result"
    }
   ],
   "source": [
    "chemistry.difference(biology)"
   ]
  },
  {
   "cell_type": "code",
   "execution_count": 15,
   "id": "f85d3933-374b-4370-b26d-ab3d42698782",
   "metadata": {},
   "outputs": [
    {
     "data": {
      "text/plain": [
       "{'Abdul', 'Christy', 'Sofiyyah'}"
      ]
     },
     "execution_count": 15,
     "metadata": {},
     "output_type": "execute_result"
    }
   ],
   "source": [
    "biology.difference(chemistry)"
   ]
  },
  {
   "cell_type": "code",
   "execution_count": 16,
   "id": "a05948aa-9da8-47ec-923e-c0b784fc2763",
   "metadata": {},
   "outputs": [],
   "source": [
    "dup_list = ['Abdul', 'Bola', 'Christy', 'Daniel', 'Sofiyyah', 'Bola']\n",
    "dup_set = set(dup_list)"
   ]
  },
  {
   "cell_type": "markdown",
   "id": "5ac18882-a11d-434b-9494-d12ae34df18f",
   "metadata": {},
   "source": [
    "### While loops"
   ]
  },
  {
   "cell_type": "code",
   "execution_count": 17,
   "id": "534feab0-6ed2-44a8-bd47-9ac63b0f936d",
   "metadata": {},
   "outputs": [
    {
     "name": "stdout",
     "output_type": "stream",
     "text": [
      "0.1\n",
      "1.1\n",
      "2.1\n",
      "3.1\n",
      "4.1\n"
     ]
    }
   ],
   "source": [
    "x = 0.1\n",
    "\n",
    "while x < 5:\n",
    "    print(x)\n",
    "    x = x + 1"
   ]
  },
  {
   "cell_type": "code",
   "execution_count": 64,
   "id": "a5e4b0c1-b3a3-45cc-acd5-f54003ea0532",
   "metadata": {},
   "outputs": [
    {
     "name": "stdout",
     "output_type": "stream",
     "text": [
      "What is your name? type 'quit' to exit:  Bello\n"
     ]
    },
    {
     "name": "stdout",
     "output_type": "stream",
     "text": [
      "Bello\n"
     ]
    },
    {
     "name": "stdout",
     "output_type": "stream",
     "text": [
      "What is your name? type 'quit' to exit:  Quit\n"
     ]
    },
    {
     "name": "stdout",
     "output_type": "stream",
     "text": [
      "Quit\n"
     ]
    },
    {
     "name": "stdout",
     "output_type": "stream",
     "text": [
      "What is your name? type 'quit' to exit:  quit\n"
     ]
    },
    {
     "name": "stdout",
     "output_type": "stream",
     "text": [
      "quit\n"
     ]
    }
   ],
   "source": [
    "response = ''\n",
    "\n",
    "while response != 'quit':\n",
    "    response = input('What is your name? type \\'quit\\' to exit: ')\n",
    "    print(response)"
   ]
  },
  {
   "cell_type": "code",
   "execution_count": 66,
   "id": "46060c7d-ea8d-4cc4-a10a-26c6f437ef4c",
   "metadata": {},
   "outputs": [
    {
     "name": "stdout",
     "output_type": "stream",
     "text": [
      "What is your name? type 'quit' to exit:  veronica\n"
     ]
    },
    {
     "name": "stdout",
     "output_type": "stream",
     "text": [
      "veronica\n"
     ]
    },
    {
     "name": "stdout",
     "output_type": "stream",
     "text": [
      "What is your name? type 'quit' to exit:  quit\n"
     ]
    }
   ],
   "source": [
    "# break, continue and pass\n",
    "\n",
    "response = ''\n",
    "\n",
    "while True:\n",
    "    response = input('What is your name? type \\'quit\\' to exit: ')\n",
    "    if response == 'quit':\n",
    "        break\n",
    "    print(response)"
   ]
  },
  {
   "cell_type": "code",
   "execution_count": null,
   "id": "08f90e61-c6ae-480e-a7aa-606ef611744c",
   "metadata": {},
   "outputs": [],
   "source": [
    "- create an empty dictionary\n",
    "- populate the dictionary with item/quantity\n",
    "- read the dictionary\n",
    "- update the dictoary\n",
    "- delete item from dictionary\n"
   ]
  },
  {
   "cell_type": "code",
   "execution_count": 74,
   "id": "d84fb6ea-c791-4186-bf20-2e5d25e4d084",
   "metadata": {},
   "outputs": [],
   "source": [
    "# create an empty dictionary for inventory\n",
    "import pandas as pd\n",
    "inventory = {}"
   ]
  },
  {
   "cell_type": "code",
   "execution_count": 80,
   "id": "4f560b4f-65a0-4bba-91d6-7c58dffc7d5d",
   "metadata": {},
   "outputs": [
    {
     "name": "stdout",
     "output_type": "stream",
     "text": [
      "Enter the name of the item:  phones\n",
      "Enter the quantity for phones:  100\n"
     ]
    }
   ],
   "source": [
    "# populate the dictionary with item/quantity\n",
    "item_name = input('Enter the name of the item: ')\n",
    "quantity = input(f'Enter the quantity for {item_name}: ')\n",
    "\n",
    "inventory[item_name] = quantity"
   ]
  },
  {
   "cell_type": "code",
   "execution_count": 82,
   "id": "c9f7be02-8fb2-423e-aad8-0fbe37257ad3",
   "metadata": {},
   "outputs": [
    {
     "name": "stdout",
     "output_type": "stream",
     "text": [
      "{'laptop': 40, 'phones': '100'}\n"
     ]
    }
   ],
   "source": [
    "print(inventory)"
   ]
  },
  {
   "cell_type": "code",
   "execution_count": 100,
   "id": "73b5130e-9e98-4944-9c63-3766690cf50b",
   "metadata": {},
   "outputs": [
    {
     "data": {
      "text/html": [
       "<div>\n",
       "<style scoped>\n",
       "    .dataframe tbody tr th:only-of-type {\n",
       "        vertical-align: middle;\n",
       "    }\n",
       "\n",
       "    .dataframe tbody tr th {\n",
       "        vertical-align: top;\n",
       "    }\n",
       "\n",
       "    .dataframe thead th {\n",
       "        text-align: right;\n",
       "    }\n",
       "</style>\n",
       "<table border=\"1\" class=\"dataframe\">\n",
       "  <thead>\n",
       "    <tr style=\"text-align: right;\">\n",
       "      <th></th>\n",
       "      <th>item</th>\n",
       "      <th>quantity</th>\n",
       "    </tr>\n",
       "  </thead>\n",
       "  <tbody>\n",
       "    <tr>\n",
       "      <th>0</th>\n",
       "      <td>laptop</td>\n",
       "      <td>40</td>\n",
       "    </tr>\n",
       "    <tr>\n",
       "      <th>1</th>\n",
       "      <td>phones</td>\n",
       "      <td>100</td>\n",
       "    </tr>\n",
       "  </tbody>\n",
       "</table>\n",
       "</div>"
      ],
      "text/plain": [
       "     item quantity\n",
       "0  laptop       40\n",
       "1  phones      100"
      ]
     },
     "execution_count": 100,
     "metadata": {},
     "output_type": "execute_result"
    }
   ],
   "source": [
    "# read the dictionary\n",
    "inventory_df = pd.DataFrame(inventory.items(), columns = ['item', 'quantity'])\n",
    "inventory_df"
   ]
  },
  {
   "cell_type": "code",
   "execution_count": 102,
   "id": "7bd19e8c-98da-49a6-917c-081709e4810c",
   "metadata": {},
   "outputs": [
    {
     "name": "stdout",
     "output_type": "stream",
     "text": [
      "Enter the name of the item you want to update:  phones\n",
      "Enter the quantity for phones:  95\n"
     ]
    }
   ],
   "source": [
    "# update the dictionary\n",
    "item_name = input('Enter the name of the item you want to update: ')\n",
    "quantity = input(f'Enter the quantity for {item_name}: ')\n",
    "\n",
    "inventory[item_name] = quantity"
   ]
  },
  {
   "cell_type": "code",
   "execution_count": 104,
   "id": "c4279f87-f933-40d1-b1ee-478d9eba15b8",
   "metadata": {},
   "outputs": [
    {
     "name": "stdout",
     "output_type": "stream",
     "text": [
      "{'laptop': 40, 'phones': '95'}\n"
     ]
    }
   ],
   "source": [
    "print(inventory)"
   ]
  },
  {
   "cell_type": "code",
   "execution_count": null,
   "id": "cfc7a0ce-3b19-4dab-ba57-3ebe804ecaed",
   "metadata": {},
   "outputs": [],
   "source": [
    "inventory.update({item_name: quantity})"
   ]
  },
  {
   "cell_type": "code",
   "execution_count": 106,
   "id": "9f42ceec-11c1-435d-8a85-28f27da7c12b",
   "metadata": {},
   "outputs": [
    {
     "name": "stdout",
     "output_type": "stream",
     "text": [
      "Enter the name of the item you want to delete:  phones\n"
     ]
    }
   ],
   "source": [
    "# delete an item from the dictionary\n",
    "item_name = input('Enter the name of the item you want to delete: ')\n",
    "del inventory[item_name]"
   ]
  },
  {
   "cell_type": "code",
   "execution_count": 114,
   "id": "41278654-5134-4f9b-881d-ce9b736a557b",
   "metadata": {},
   "outputs": [
    {
     "name": "stdout",
     "output_type": "stream",
     "text": [
      "welcome to the store\n"
     ]
    },
    {
     "name": "stdout",
     "output_type": "stream",
     "text": [
      "type: add, update, view, delete or exit view\n"
     ]
    },
    {
     "name": "stdout",
     "output_type": "stream",
     "text": [
      "          item quantity\n",
      "0       laptop       40\n",
      "1  accessories       70\n"
     ]
    },
    {
     "name": "stdout",
     "output_type": "stream",
     "text": [
      "type: add, update, view, delete or exit update\n",
      "Enter the name of the item you want to update:  laptop\n",
      "Enter the quantity for laptop:  90\n"
     ]
    },
    {
     "name": "stdout",
     "output_type": "stream",
     "text": [
      "laptop updated succesfully\n"
     ]
    },
    {
     "name": "stdout",
     "output_type": "stream",
     "text": [
      "type: add, update, view, delete or exit help\n"
     ]
    },
    {
     "name": "stdout",
     "output_type": "stream",
     "text": [
      "Invalid command\n"
     ]
    }
   ],
   "source": [
    "print('welcome to the store')\n",
    "\n",
    "while True:\n",
    "    response = input('type: add, update, view, delete or exit')\n",
    "\n",
    "    if response == 'add':\n",
    "        item_name = input('Enter the name of the item you want to add: ')\n",
    "        quantity = input(f'Enter the quantity for {item_name}: ')\n",
    "\n",
    "        inventory[item_name] = quantity\n",
    "        print(f'{item_name} added succesfully')\n",
    "        \n",
    "    elif response == 'update':\n",
    "        item_name = input('Enter the name of the item you want to update: ')\n",
    "        quantity = input(f'Enter the quantity for {item_name}: ')\n",
    "\n",
    "        inventory[item_name] = quantity\n",
    "        print(f'{item_name} updated succesfully')\n",
    "\n",
    "    elif response == 'view':\n",
    "        inventory_df = pd.DataFrame(inventory.items(), columns = ['item', 'quantity'])\n",
    "        print(inventory_df)\n",
    "\n",
    "    elif response == 'delete':\n",
    "        item_name = input('Enter the name of the item you want to delete: ')\n",
    "        del inventory[item_name]\n",
    "\n",
    "    elif response == 'exit':\n",
    "        print('Goodbye')\n",
    "        break\n",
    "\n",
    "    else:\n",
    "        print('Invalid command')\n",
    "        break"
   ]
  },
  {
   "cell_type": "code",
   "execution_count": null,
   "id": "dff33405-a799-4726-a36f-748f20b3cf63",
   "metadata": {},
   "outputs": [],
   "source": []
  }
 ],
 "metadata": {
  "kernelspec": {
   "display_name": "Python 3",
   "language": "python",
   "name": "python3"
  },
  "language_info": {
   "codemirror_mode": {
    "name": "ipython",
    "version": 3
   },
   "file_extension": ".py",
   "mimetype": "text/x-python",
   "name": "python",
   "nbconvert_exporter": "python",
   "pygments_lexer": "ipython3",
   "version": "3.11.9"
  }
 },
 "nbformat": 4,
 "nbformat_minor": 5
}
