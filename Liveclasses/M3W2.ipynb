{
 "cells": [
  {
   "cell_type": "code",
   "execution_count": 27,
   "id": "c240aa43",
   "metadata": {},
   "outputs": [
    {
     "name": "stdout",
     "output_type": "stream",
     "text": [
      "<class 'pandas.core.frame.DataFrame'>\n",
      "RangeIndex: 1309 entries, 0 to 1308\n",
      "Data columns (total 28 columns):\n",
      " #   Column       Non-Null Count  Dtype  \n",
      "---  ------       --------------  -----  \n",
      " 0   Passengerid  1309 non-null   int64  \n",
      " 1   Age          1309 non-null   float64\n",
      " 2   Fare         1309 non-null   float64\n",
      " 3   Sex          1309 non-null   int64  \n",
      " 4   sibsp        1309 non-null   int64  \n",
      " 5   zero         1309 non-null   int64  \n",
      " 6   zero.1       1309 non-null   int64  \n",
      " 7   zero.2       1309 non-null   int64  \n",
      " 8   zero.3       1309 non-null   int64  \n",
      " 9   zero.4       1309 non-null   int64  \n",
      " 10  zero.5       1309 non-null   int64  \n",
      " 11  zero.6       1309 non-null   int64  \n",
      " 12  Parch        1309 non-null   int64  \n",
      " 13  zero.7       1309 non-null   int64  \n",
      " 14  zero.8       1309 non-null   int64  \n",
      " 15  zero.9       1309 non-null   int64  \n",
      " 16  zero.10      1309 non-null   int64  \n",
      " 17  zero.11      1309 non-null   int64  \n",
      " 18  zero.12      1309 non-null   int64  \n",
      " 19  zero.13      1309 non-null   int64  \n",
      " 20  zero.14      1309 non-null   int64  \n",
      " 21  Pclass       1309 non-null   int64  \n",
      " 22  zero.15      1309 non-null   int64  \n",
      " 23  zero.16      1309 non-null   int64  \n",
      " 24  Embarked     1307 non-null   float64\n",
      " 25  zero.17      1309 non-null   int64  \n",
      " 26  zero.18      1309 non-null   int64  \n",
      " 27  2urvived     1309 non-null   int64  \n",
      "dtypes: float64(3), int64(25)\n",
      "memory usage: 286.5 KB\n"
     ]
    },
    {
     "data": {
      "text/plain": [
       "Passengerid      int64\n",
       "Age            float64\n",
       "Fare           float64\n",
       "Sex              int64\n",
       "sibsp            int64\n",
       "zero             int64\n",
       "zero.1           int64\n",
       "zero.2           int64\n",
       "zero.3           int64\n",
       "zero.4           int64\n",
       "zero.5           int64\n",
       "zero.6           int64\n",
       "Parch            int64\n",
       "zero.7           int64\n",
       "zero.8           int64\n",
       "zero.9           int64\n",
       "zero.10          int64\n",
       "zero.11          int64\n",
       "zero.12          int64\n",
       "zero.13          int64\n",
       "zero.14          int64\n",
       "Pclass           int64\n",
       "zero.15          int64\n",
       "zero.16          int64\n",
       "Embarked       float64\n",
       "zero.17          int64\n",
       "zero.18          int64\n",
       "2urvived         int64\n",
       "dtype: object"
      ]
     },
     "execution_count": 27,
     "metadata": {},
     "output_type": "execute_result"
    }
   ],
   "source": [
    "import pandas as pd\n",
    "data_load=r'C:\\Users\\Jiary\\Documents\\Github\\DS_Altschool\\Data_Dataset\\train_and_test2.csv'\n",
    "df = pd.read_csv(data_load)\n",
    "df.head()\n",
    "df.info()\n",
    "df.describe(include='all')\n",
    "df.columns\n",
    "df.shape\n",
    "df.dtypes"
   ]
  },
  {
   "cell_type": "code",
   "execution_count": 36,
   "id": "7e8208fb",
   "metadata": {},
   "outputs": [
    {
     "name": "stdout",
     "output_type": "stream",
     "text": [
      "<class 'pandas.core.frame.DataFrame'>\n",
      "RangeIndex: 4424 entries, 0 to 4423\n",
      "Data columns (total 37 columns):\n",
      " #   Column                                          Non-Null Count  Dtype  \n",
      "---  ------                                          --------------  -----  \n",
      " 0   Marital Status                                  4424 non-null   int64  \n",
      " 1   Application mode                                4424 non-null   int64  \n",
      " 2   Application order                               4424 non-null   int64  \n",
      " 3   Course                                          4424 non-null   int64  \n",
      " 4   Daytime/evening attendance                      4424 non-null   int64  \n",
      " 5   Previous qualification                          4424 non-null   int64  \n",
      " 6   Previous qualification (grade)                  4424 non-null   float64\n",
      " 7   Nacionality                                     4424 non-null   int64  \n",
      " 8   Mother's qualification                          4424 non-null   int64  \n",
      " 9   Father's qualification                          4424 non-null   int64  \n",
      " 10  Mother's occupation                             4424 non-null   int64  \n",
      " 11  Father's occupation                             4424 non-null   int64  \n",
      " 12  Admission grade                                 4424 non-null   float64\n",
      " 13  Displaced                                       4424 non-null   int64  \n",
      " 14  Educational special needs                       4424 non-null   int64  \n",
      " 15  Debtor                                          4424 non-null   int64  \n",
      " 16  Tuition fees up to date                         4424 non-null   int64  \n",
      " 17  Gender                                          4424 non-null   int64  \n",
      " 18  Scholarship holder                              4424 non-null   int64  \n",
      " 19  Age at enrollment                               4424 non-null   int64  \n",
      " 20  International                                   4424 non-null   int64  \n",
      " 21  Curricular units 1st sem (credited)             4424 non-null   int64  \n",
      " 22  Curricular units 1st sem (enrolled)             4424 non-null   int64  \n",
      " 23  Curricular units 1st sem (evaluations)          4424 non-null   int64  \n",
      " 24  Curricular units 1st sem (approved)             4424 non-null   int64  \n",
      " 25  Curricular units 1st sem (grade)                4424 non-null   float64\n",
      " 26  Curricular units 1st sem (without evaluations)  4424 non-null   int64  \n",
      " 27  Curricular units 2nd sem (credited)             4424 non-null   int64  \n",
      " 28  Curricular units 2nd sem (enrolled)             4424 non-null   int64  \n",
      " 29  Curricular units 2nd sem (evaluations)          4424 non-null   int64  \n",
      " 30  Curricular units 2nd sem (approved)             4424 non-null   int64  \n",
      " 31  Curricular units 2nd sem (grade)                4424 non-null   float64\n",
      " 32  Curricular units 2nd sem (without evaluations)  4424 non-null   int64  \n",
      " 33  Unemployment rate                               4424 non-null   float64\n",
      " 34  Inflation rate                                  4424 non-null   float64\n",
      " 35  GDP                                             4424 non-null   float64\n",
      " 36  target                                          4424 non-null   object \n",
      "dtypes: float64(7), int64(29), object(1)\n",
      "memory usage: 1.2+ MB\n"
     ]
    },
    {
     "data": {
      "application/vnd.microsoft.datawrangler.viewer.v0+json": {
       "columns": [
        {
         "name": "index",
         "rawType": "int64",
         "type": "integer"
        },
        {
         "name": "Gender",
         "rawType": "int64",
         "type": "integer"
        },
        {
         "name": "Course",
         "rawType": "int64",
         "type": "integer"
        }
       ],
       "conversionMethod": "pd.DataFrame",
       "ref": "be31b62b-5fe3-4531-b241-e3c851df0f4e",
       "rows": [
        [
         "0",
         "1",
         "171"
        ],
        [
         "1",
         "1",
         "9254"
        ],
        [
         "2",
         "1",
         "9070"
        ],
        [
         "3",
         "0",
         "9773"
        ],
        [
         "4",
         "0",
         "8014"
        ],
        [
         "5",
         "1",
         "9991"
        ],
        [
         "6",
         "0",
         "9500"
        ],
        [
         "7",
         "1",
         "9254"
        ],
        [
         "8",
         "0",
         "9238"
        ],
        [
         "9",
         "0",
         "9238"
        ],
        [
         "10",
         "0",
         "9670"
        ],
        [
         "11",
         "0",
         "9500"
        ],
        [
         "12",
         "0",
         "9853"
        ],
        [
         "13",
         "0",
         "9254"
        ],
        [
         "14",
         "0",
         "9085"
        ],
        [
         "15",
         "0",
         "9773"
        ],
        [
         "16",
         "0",
         "9238"
        ],
        [
         "17",
         "0",
         "9500"
        ],
        [
         "18",
         "0",
         "9130"
        ],
        [
         "19",
         "0",
         "9853"
        ],
        [
         "20",
         "0",
         "171"
        ],
        [
         "21",
         "0",
         "9556"
        ],
        [
         "22",
         "0",
         "9500"
        ],
        [
         "23",
         "0",
         "9670"
        ],
        [
         "24",
         "0",
         "9500"
        ],
        [
         "25",
         "0",
         "9238"
        ],
        [
         "26",
         "0",
         "9238"
        ],
        [
         "27",
         "0",
         "9085"
        ],
        [
         "28",
         "0",
         "9147"
        ],
        [
         "29",
         "1",
         "9500"
        ],
        [
         "30",
         "1",
         "9003"
        ],
        [
         "31",
         "1",
         "9070"
        ],
        [
         "32",
         "1",
         "9147"
        ],
        [
         "33",
         "0",
         "8014"
        ],
        [
         "34",
         "1",
         "9991"
        ],
        [
         "35",
         "1",
         "33"
        ],
        [
         "36",
         "1",
         "9119"
        ],
        [
         "37",
         "0",
         "9147"
        ],
        [
         "38",
         "0",
         "9991"
        ],
        [
         "39",
         "0",
         "9130"
        ],
        [
         "40",
         "0",
         "9773"
        ],
        [
         "41",
         "0",
         "9147"
        ],
        [
         "42",
         "0",
         "9500"
        ],
        [
         "43",
         "0",
         "9773"
        ],
        [
         "44",
         "0",
         "9991"
        ],
        [
         "45",
         "0",
         "9991"
        ],
        [
         "46",
         "0",
         "9238"
        ],
        [
         "47",
         "0",
         "9500"
        ],
        [
         "48",
         "0",
         "8014"
        ],
        [
         "49",
         "0",
         "9238"
        ]
       ],
       "shape": {
        "columns": 2,
        "rows": 4424
       }
      },
      "text/html": [
       "<div>\n",
       "<style scoped>\n",
       "    .dataframe tbody tr th:only-of-type {\n",
       "        vertical-align: middle;\n",
       "    }\n",
       "\n",
       "    .dataframe tbody tr th {\n",
       "        vertical-align: top;\n",
       "    }\n",
       "\n",
       "    .dataframe thead th {\n",
       "        text-align: right;\n",
       "    }\n",
       "</style>\n",
       "<table border=\"1\" class=\"dataframe\">\n",
       "  <thead>\n",
       "    <tr style=\"text-align: right;\">\n",
       "      <th></th>\n",
       "      <th>Gender</th>\n",
       "      <th>Course</th>\n",
       "    </tr>\n",
       "  </thead>\n",
       "  <tbody>\n",
       "    <tr>\n",
       "      <th>0</th>\n",
       "      <td>1</td>\n",
       "      <td>171</td>\n",
       "    </tr>\n",
       "    <tr>\n",
       "      <th>1</th>\n",
       "      <td>1</td>\n",
       "      <td>9254</td>\n",
       "    </tr>\n",
       "    <tr>\n",
       "      <th>2</th>\n",
       "      <td>1</td>\n",
       "      <td>9070</td>\n",
       "    </tr>\n",
       "    <tr>\n",
       "      <th>3</th>\n",
       "      <td>0</td>\n",
       "      <td>9773</td>\n",
       "    </tr>\n",
       "    <tr>\n",
       "      <th>4</th>\n",
       "      <td>0</td>\n",
       "      <td>8014</td>\n",
       "    </tr>\n",
       "    <tr>\n",
       "      <th>...</th>\n",
       "      <td>...</td>\n",
       "      <td>...</td>\n",
       "    </tr>\n",
       "    <tr>\n",
       "      <th>4419</th>\n",
       "      <td>1</td>\n",
       "      <td>9773</td>\n",
       "    </tr>\n",
       "    <tr>\n",
       "      <th>4420</th>\n",
       "      <td>0</td>\n",
       "      <td>9773</td>\n",
       "    </tr>\n",
       "    <tr>\n",
       "      <th>4421</th>\n",
       "      <td>0</td>\n",
       "      <td>9500</td>\n",
       "    </tr>\n",
       "    <tr>\n",
       "      <th>4422</th>\n",
       "      <td>0</td>\n",
       "      <td>9147</td>\n",
       "    </tr>\n",
       "    <tr>\n",
       "      <th>4423</th>\n",
       "      <td>0</td>\n",
       "      <td>9773</td>\n",
       "    </tr>\n",
       "  </tbody>\n",
       "</table>\n",
       "<p>4424 rows × 2 columns</p>\n",
       "</div>"
      ],
      "text/plain": [
       "      Gender  Course\n",
       "0          1     171\n",
       "1          1    9254\n",
       "2          1    9070\n",
       "3          0    9773\n",
       "4          0    8014\n",
       "...      ...     ...\n",
       "4419       1    9773\n",
       "4420       0    9773\n",
       "4421       0    9500\n",
       "4422       0    9147\n",
       "4423       0    9773\n",
       "\n",
       "[4424 rows x 2 columns]"
      ]
     },
     "execution_count": 36,
     "metadata": {},
     "output_type": "execute_result"
    }
   ],
   "source": [
    "data_load2=r'C:\\Users\\Jiary\\Documents\\Github\\DS_Altschool\\Data_Dataset\\students_dropout_academic_success.csv'\n",
    "df=pd.read_csv(data_load2)\n",
    "df.head()\n",
    "\n",
    "df.info()\n",
    "df.describe(include='all')\n",
    "df.columns\n",
    "df.shape\n",
    "\n",
    "df[['Gender', 'Course']]\n"
   ]
  },
  {
   "cell_type": "code",
   "execution_count": 39,
   "id": "9bf1eede",
   "metadata": {},
   "outputs": [
    {
     "name": "stdout",
     "output_type": "stream",
     "text": [
      "<class 'pandas.core.frame.DataFrame'>\n",
      "RangeIndex: 123 entries, 0 to 122\n",
      "Data columns (total 2 columns):\n",
      " #   Column   Non-Null Count  Dtype \n",
      "---  ------   --------------  ----- \n",
      " 0   pid      123 non-null    int64 \n",
      " 1   disease  123 non-null    object\n",
      "dtypes: int64(1), object(1)\n",
      "memory usage: 2.1+ KB\n"
     ]
    },
    {
     "data": {
      "application/vnd.microsoft.datawrangler.viewer.v0+json": {
       "columns": [
        {
         "name": "index",
         "rawType": "int64",
         "type": "integer"
        },
        {
         "name": "pid",
         "rawType": "int64",
         "type": "integer"
        },
        {
         "name": "disease",
         "rawType": "object",
         "type": "string"
        }
       ],
       "conversionMethod": "pd.DataFrame",
       "ref": "b6477e71-270d-4720-ad6f-90a1069f66b3",
       "rows": [
        [
         "0",
         "101",
         "URTI"
        ],
        [
         "1",
         "102",
         "Healthy"
        ],
        [
         "2",
         "104",
         "COPD"
        ],
        [
         "3",
         "105",
         "URTI"
        ],
        [
         "4",
         "106",
         "COPD"
        ],
        [
         "5",
         "107",
         "COPD"
        ],
        [
         "6",
         "109",
         "COPD"
        ],
        [
         "7",
         "110",
         "COPD"
        ],
        [
         "8",
         "111",
         "Bronchiectasis"
        ],
        [
         "9",
         "112",
         "COPD"
        ],
        [
         "10",
         "113",
         "COPD"
        ],
        [
         "11",
         "114",
         "COPD"
        ],
        [
         "12",
         "116",
         "Bronchiectasis"
        ],
        [
         "13",
         "117",
         "COPD"
        ],
        [
         "14",
         "118",
         "COPD"
        ],
        [
         "15",
         "119",
         "URTI"
        ],
        [
         "16",
         "120",
         "COPD"
        ],
        [
         "17",
         "121",
         "Healthy"
        ],
        [
         "18",
         "122",
         "Pneumonia"
        ],
        [
         "19",
         "123",
         "Healthy"
        ],
        [
         "20",
         "124",
         "COPD"
        ],
        [
         "21",
         "125",
         "Healthy"
        ],
        [
         "22",
         "126",
         "Healthy"
        ],
        [
         "23",
         "127",
         "Healthy"
        ],
        [
         "24",
         "128",
         "COPD"
        ],
        [
         "25",
         "129",
         "URTI"
        ],
        [
         "26",
         "130",
         "COPD"
        ],
        [
         "27",
         "131",
         "URTI"
        ],
        [
         "28",
         "132",
         "COPD"
        ],
        [
         "29",
         "133",
         "COPD"
        ],
        [
         "30",
         "134",
         "COPD"
        ],
        [
         "31",
         "135",
         "Pneumonia"
        ],
        [
         "32",
         "136",
         "Healthy"
        ],
        [
         "33",
         "137",
         "URTI"
        ],
        [
         "34",
         "138",
         "COPD"
        ],
        [
         "35",
         "139",
         "COPD"
        ],
        [
         "36",
         "140",
         "Pneumonia"
        ],
        [
         "37",
         "141",
         "COPD"
        ],
        [
         "38",
         "142",
         "COPD"
        ],
        [
         "39",
         "143",
         "Healthy"
        ],
        [
         "40",
         "144",
         "Healthy"
        ],
        [
         "41",
         "145",
         "COPD"
        ],
        [
         "42",
         "146",
         "COPD"
        ],
        [
         "43",
         "147",
         "COPD"
        ],
        [
         "44",
         "148",
         "URTI"
        ],
        [
         "45",
         "149",
         "Bronchiolitis"
        ],
        [
         "46",
         "150",
         "URTI"
        ],
        [
         "47",
         "151",
         "COPD"
        ],
        [
         "48",
         "152",
         "Healthy"
        ],
        [
         "49",
         "153",
         "Healthy"
        ]
       ],
       "shape": {
        "columns": 2,
        "rows": 123
       }
      },
      "text/html": [
       "<div>\n",
       "<style scoped>\n",
       "    .dataframe tbody tr th:only-of-type {\n",
       "        vertical-align: middle;\n",
       "    }\n",
       "\n",
       "    .dataframe tbody tr th {\n",
       "        vertical-align: top;\n",
       "    }\n",
       "\n",
       "    .dataframe thead th {\n",
       "        text-align: right;\n",
       "    }\n",
       "</style>\n",
       "<table border=\"1\" class=\"dataframe\">\n",
       "  <thead>\n",
       "    <tr style=\"text-align: right;\">\n",
       "      <th></th>\n",
       "      <th>pid</th>\n",
       "      <th>disease</th>\n",
       "    </tr>\n",
       "  </thead>\n",
       "  <tbody>\n",
       "    <tr>\n",
       "      <th>0</th>\n",
       "      <td>101</td>\n",
       "      <td>URTI</td>\n",
       "    </tr>\n",
       "    <tr>\n",
       "      <th>1</th>\n",
       "      <td>102</td>\n",
       "      <td>Healthy</td>\n",
       "    </tr>\n",
       "    <tr>\n",
       "      <th>2</th>\n",
       "      <td>104</td>\n",
       "      <td>COPD</td>\n",
       "    </tr>\n",
       "    <tr>\n",
       "      <th>3</th>\n",
       "      <td>105</td>\n",
       "      <td>URTI</td>\n",
       "    </tr>\n",
       "    <tr>\n",
       "      <th>4</th>\n",
       "      <td>106</td>\n",
       "      <td>COPD</td>\n",
       "    </tr>\n",
       "    <tr>\n",
       "      <th>...</th>\n",
       "      <td>...</td>\n",
       "      <td>...</td>\n",
       "    </tr>\n",
       "    <tr>\n",
       "      <th>118</th>\n",
       "      <td>222</td>\n",
       "      <td>COPD</td>\n",
       "    </tr>\n",
       "    <tr>\n",
       "      <th>119</th>\n",
       "      <td>223</td>\n",
       "      <td>COPD</td>\n",
       "    </tr>\n",
       "    <tr>\n",
       "      <th>120</th>\n",
       "      <td>224</td>\n",
       "      <td>Healthy</td>\n",
       "    </tr>\n",
       "    <tr>\n",
       "      <th>121</th>\n",
       "      <td>225</td>\n",
       "      <td>Healthy</td>\n",
       "    </tr>\n",
       "    <tr>\n",
       "      <th>122</th>\n",
       "      <td>226</td>\n",
       "      <td>Pneumonia</td>\n",
       "    </tr>\n",
       "  </tbody>\n",
       "</table>\n",
       "<p>123 rows × 2 columns</p>\n",
       "</div>"
      ],
      "text/plain": [
       "     pid    disease\n",
       "0    101       URTI\n",
       "1    102    Healthy\n",
       "2    104       COPD\n",
       "3    105       URTI\n",
       "4    106       COPD\n",
       "..   ...        ...\n",
       "118  222       COPD\n",
       "119  223       COPD\n",
       "120  224    Healthy\n",
       "121  225    Healthy\n",
       "122  226  Pneumonia\n",
       "\n",
       "[123 rows x 2 columns]"
      ]
     },
     "execution_count": 39,
     "metadata": {},
     "output_type": "execute_result"
    }
   ],
   "source": [
    "patient=r'C://Users/Jiary/Documents/Github/ML/patient_diagnosis_filtered_data.csv'\n",
    "df=pd.read_csv(patient)\n",
    "df.head()\n",
    "df.info()\n",
    "df.describe()\n",
    "df.describe(include='all')\n",
    "df.columns\n",
    "df.shape\n",
    "df[['pid', 'disease']]"
   ]
  },
  {
   "cell_type": "code",
   "execution_count": 54,
   "id": "3e0b9fe7",
   "metadata": {},
   "outputs": [
    {
     "name": "stdout",
     "output_type": "stream",
     "text": [
      "<class 'pandas.core.frame.DataFrame'>\n",
      "RangeIndex: 7722 entries, 0 to 7721\n",
      "Data columns (total 2 columns):\n",
      " #   Column  Non-Null Count  Dtype  \n",
      "---  ------  --------------  -----  \n",
      " 0   time    7722 non-null   object \n",
      " 1   weight  7719 non-null   float64\n",
      "dtypes: float64(1), object(1)\n",
      "memory usage: 120.8+ KB\n"
     ]
    },
    {
     "data": {
      "application/vnd.microsoft.datawrangler.viewer.v0+json": {
       "columns": [
        {
         "name": "index",
         "rawType": "int64",
         "type": "integer"
        },
        {
         "name": "time",
         "rawType": "object",
         "type": "unknown"
        },
        {
         "name": "weight",
         "rawType": "float64",
         "type": "float"
        }
       ],
       "conversionMethod": "pd.DataFrame",
       "ref": "ad77a8e3-07df-4155-b645-94adecf46c72",
       "rows": [
        [
         "0",
         "92",
         "70.15"
        ],
        [
         "1",
         "102",
         "72.61"
        ],
        [
         "2",
         "113",
         "74.54"
        ],
        [
         "3",
         "124",
         "72.96"
        ],
        [
         "4",
         "134",
         "69.8"
        ],
        [
         "5",
         "156",
         "68.05"
        ],
        [
         "6",
         "178",
         "66.29"
        ],
        [
         "7",
         "241",
         "63.84"
        ],
        [
         "8",
         "338",
         "59.1"
        ],
        [
         "9",
         "348",
         "59.45"
        ],
        [
         "10",
         "359",
         "59.8"
        ],
        [
         "11",
         "370",
         "58.23"
        ],
        [
         "12",
         "382",
         "56.65"
        ],
        [
         "13",
         "391",
         "58.23"
        ],
        [
         "14",
         "402",
         "59.45"
        ],
        [
         "15",
         "413",
         "59.98"
        ],
        [
         "16",
         "423",
         "61.73"
        ],
        [
         "17",
         "434",
         "63.31"
        ],
        [
         "18",
         "445",
         "64.19"
        ],
        [
         "19",
         "456",
         "65.77"
        ],
        [
         "20",
         "477",
         "73.13"
        ],
        [
         "21",
         "488",
         "76.46"
        ],
        [
         "22",
         "498",
         "78.39"
        ],
        [
         "23",
         "509",
         "77.34"
        ],
        [
         "24",
         "520",
         "75.59"
        ],
        [
         "25",
         "530",
         "72.43"
        ],
        [
         "26",
         "541",
         "70.5"
        ],
        [
         "27",
         "552",
         "70.5"
        ],
        [
         "28",
         "563",
         "73.48"
        ],
        [
         "29",
         "573",
         "75.06"
        ],
        [
         "30",
         "616",
         "69.45"
        ],
        [
         "31",
         "627",
         "67.87"
        ],
        [
         "32",
         "638",
         "66.64"
        ],
        [
         "33",
         "648",
         "66.47"
        ],
        [
         "34",
         "659",
         "64.54"
        ],
        [
         "35",
         "670",
         "62.61"
        ],
        [
         "36",
         "680",
         "61.03"
        ],
        [
         "37",
         "691",
         "61.38"
        ],
        [
         "38",
         "702",
         "63.14"
        ],
        [
         "39",
         "713",
         "65.24"
        ],
        [
         "40",
         "723",
         "66.12"
        ],
        [
         "41",
         "734",
         "66.47"
        ],
        [
         "42",
         "745",
         "65.06"
        ],
        [
         "43",
         "755",
         "62.61"
        ],
        [
         "44",
         "766",
         "62.26"
        ],
        [
         "45",
         "792",
         "61.73"
        ],
        [
         "46",
         "798",
         "61.56"
        ],
        [
         "47",
         "809",
         "61.91"
        ],
        [
         "48",
         "820",
         "62.61"
        ],
        [
         "49",
         "841",
         "60.51"
        ]
       ],
       "shape": {
        "columns": 2,
        "rows": 7722
       }
      },
      "text/html": [
       "<div>\n",
       "<style scoped>\n",
       "    .dataframe tbody tr th:only-of-type {\n",
       "        vertical-align: middle;\n",
       "    }\n",
       "\n",
       "    .dataframe tbody tr th {\n",
       "        vertical-align: top;\n",
       "    }\n",
       "\n",
       "    .dataframe thead th {\n",
       "        text-align: right;\n",
       "    }\n",
       "</style>\n",
       "<table border=\"1\" class=\"dataframe\">\n",
       "  <thead>\n",
       "    <tr style=\"text-align: right;\">\n",
       "      <th></th>\n",
       "      <th>time</th>\n",
       "      <th>weight</th>\n",
       "    </tr>\n",
       "  </thead>\n",
       "  <tbody>\n",
       "    <tr>\n",
       "      <th>0</th>\n",
       "      <td>92</td>\n",
       "      <td>70.15</td>\n",
       "    </tr>\n",
       "    <tr>\n",
       "      <th>1</th>\n",
       "      <td>102</td>\n",
       "      <td>72.61</td>\n",
       "    </tr>\n",
       "    <tr>\n",
       "      <th>2</th>\n",
       "      <td>113</td>\n",
       "      <td>74.54</td>\n",
       "    </tr>\n",
       "    <tr>\n",
       "      <th>3</th>\n",
       "      <td>124</td>\n",
       "      <td>72.96</td>\n",
       "    </tr>\n",
       "    <tr>\n",
       "      <th>4</th>\n",
       "      <td>134</td>\n",
       "      <td>69.80</td>\n",
       "    </tr>\n",
       "    <tr>\n",
       "      <th>...</th>\n",
       "      <td>...</td>\n",
       "      <td>...</td>\n",
       "    </tr>\n",
       "    <tr>\n",
       "      <th>7717</th>\n",
       "      <td>98554</td>\n",
       "      <td>-724.66</td>\n",
       "    </tr>\n",
       "    <tr>\n",
       "      <th>7718</th>\n",
       "      <td>98564</td>\n",
       "      <td>-725.36</td>\n",
       "    </tr>\n",
       "    <tr>\n",
       "      <th>7719</th>\n",
       "      <td>98575</td>\n",
       "      <td>-724.83</td>\n",
       "    </tr>\n",
       "    <tr>\n",
       "      <th>7720</th>\n",
       "      <td>98586</td>\n",
       "      <td>-722.90</td>\n",
       "    </tr>\n",
       "    <tr>\n",
       "      <th>7721</th>\n",
       "      <td>98597</td>\n",
       "      <td>-723.08</td>\n",
       "    </tr>\n",
       "  </tbody>\n",
       "</table>\n",
       "<p>7722 rows × 2 columns</p>\n",
       "</div>"
      ],
      "text/plain": [
       "       time  weight\n",
       "0        92   70.15\n",
       "1       102   72.61\n",
       "2       113   74.54\n",
       "3       124   72.96\n",
       "4       134   69.80\n",
       "...     ...     ...\n",
       "7717  98554 -724.66\n",
       "7718  98564 -725.36\n",
       "7719  98575 -724.83\n",
       "7720  98586 -722.90\n",
       "7721  98597 -723.08\n",
       "\n",
       "[7722 rows x 2 columns]"
      ]
     },
     "execution_count": 54,
     "metadata": {},
     "output_type": "execute_result"
    }
   ],
   "source": [
    "import pandas as pd\n",
    "mydata=r'C:\\Users\\Jiary\\Desktop\\Final_Year\\Year\\DATA2.xlsx'\n",
    "df=pd.read_excel(mydata)\n",
    "df.head()\n",
    "df.info()\n",
    "df.shape\n",
    "df.describe(include='all')\n",
    "df[['time', 'weight']]"
   ]
  },
  {
   "cell_type": "code",
   "execution_count": null,
   "id": "cb76200d",
   "metadata": {},
   "outputs": [],
   "source": []
  }
 ],
 "metadata": {
  "kernelspec": {
   "display_name": "Python 3",
   "language": "python",
   "name": "python3"
  },
  "language_info": {
   "codemirror_mode": {
    "name": "ipython",
    "version": 3
   },
   "file_extension": ".py",
   "mimetype": "text/x-python",
   "name": "python",
   "nbconvert_exporter": "python",
   "pygments_lexer": "ipython3",
   "version": "3.11.9"
  }
 },
 "nbformat": 4,
 "nbformat_minor": 5
}
