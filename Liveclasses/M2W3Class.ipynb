{
 "cells": [
  {
   "cell_type": "markdown",
   "id": "8e338df4",
   "metadata": {},
   "source": [
    "COMPARISON OPERATORS\n",
    "LOGICAL OPERATORS\n",
    "CONDITIONAL STATEMENTS(IF, ELIF AND ELSE)\n",
    "DICTIONARIES"
   ]
  },
  {
   "cell_type": "code",
   "execution_count": 3,
   "id": "0b039af7",
   "metadata": {},
   "outputs": [
    {
     "data": {
      "text/plain": [
       "False"
      ]
     },
     "execution_count": 3,
     "metadata": {},
     "output_type": "execute_result"
    }
   ],
   "source": [
    "56==79\n",
    "\n",
    "76>98\n",
    "\n",
    "10<=20\n",
    "\n",
    "3!=4\n",
    "\n",
    "True == False"
   ]
  },
  {
   "cell_type": "code",
   "execution_count": 4,
   "id": "df859ef1",
   "metadata": {},
   "outputs": [
    {
     "data": {
      "text/plain": [
       "6"
      ]
     },
     "execution_count": 4,
     "metadata": {},
     "output_type": "execute_result"
    }
   ],
   "source": [
    "x=6\n",
    "y=6\n",
    "\n",
    "x or y"
   ]
  },
  {
   "cell_type": "code",
   "execution_count": 1,
   "id": "0e7a3cbd",
   "metadata": {},
   "outputs": [
    {
     "data": {
      "text/plain": [
       "False"
      ]
     },
     "execution_count": 1,
     "metadata": {},
     "output_type": "execute_result"
    }
   ],
   "source": [
    "2<5 and 5>6"
   ]
  },
  {
   "cell_type": "code",
   "execution_count": 17,
   "id": "60914c1c",
   "metadata": {},
   "outputs": [
    {
     "name": "stdout",
     "output_type": "stream",
     "text": [
      "x is equal to 18\n"
     ]
    }
   ],
   "source": [
    "x=18\n",
    "if x>18:\n",
    "    print(\"x is greater than 18\")\n",
    "elif x==18:\n",
    "    print(\"x is equal to 18\")\n",
    "else:\n",
    "    print(\"x is less than equal to 18\")\n"
   ]
  },
  {
   "cell_type": "code",
   "execution_count": 24,
   "id": "eaad713d",
   "metadata": {},
   "outputs": [
    {
     "name": "stdout",
     "output_type": "stream",
     "text": [
      "Wrong Password\n"
     ]
    }
   ],
   "source": [
    "password=12345\n",
    "x=input(\"Enter password: \")\n",
    "if password==x:\n",
    "    print(\"Welcome User\")\n",
    "else:\n",
    "    print(\"Wrong Password\")"
   ]
  },
  {
   "cell_type": "code",
   "execution_count": 30,
   "id": "14155b13",
   "metadata": {},
   "outputs": [
    {
     "name": "stdout",
     "output_type": "stream",
     "text": [
      "Your score is 30 which is E\n"
     ]
    }
   ],
   "source": [
    "grade=int(input(\"Enter your marks: \"))\n",
    "if grade <40:\n",
    "    print(f'Your score is {grade} which is E')\n",
    "elif grade>=40 and grade< 50:\n",
    "    print(f'Your score is {grade} which is D')\n",
    "elif grade>=50 and grade<60:\n",
    "    print(f'Your score is {grade} which is C')\n",
    "elif grade>=60 and grade<70:\n",
    "    print(f'Your score is {grade} which is B')\n",
    "elif grade>=70:\n",
    "    print(f'Your score is {grade} which is A')\n"
   ]
  },
  {
   "cell_type": "code",
   "execution_count": 5,
   "id": "f0202452",
   "metadata": {},
   "outputs": [],
   "source": [
    "grade=int(input(\"Enter your marks: \"))\n",
    "while grade < 40:\n",
    "    print(f'Your score is {grade}, you failed exams')\n",
    "    grade=int(input(\"Enter your marks: \"))"
   ]
  },
  {
   "cell_type": "markdown",
   "id": "9421354e",
   "metadata": {},
   "source": [
    "DICTIONARIES"
   ]
  },
  {
   "cell_type": "code",
   "execution_count": 14,
   "id": "2c0fff2d",
   "metadata": {},
   "outputs": [
    {
     "data": {
      "text/plain": [
       "'Not Found'"
      ]
     },
     "execution_count": 14,
     "metadata": {},
     "output_type": "execute_result"
    }
   ],
   "source": [
    "scores={'DAN': 90, 'KIM': 80, 'JEN':89, 'TOM': 78, 'TED': 93}\n",
    "\n",
    "scores\n",
    "scores['DAN']=87\n",
    "scores\n",
    "scores['WES']=98\n",
    "scores\n",
    "\n",
    "scores.get('DAN', 'Not Found')\n",
    "scores.get('JEN', 'Not Found')\n",
    "scores.get('JON', 'Not Found')"
   ]
  },
  {
   "cell_type": "code",
   "execution_count": 27,
   "id": "72704555",
   "metadata": {},
   "outputs": [
    {
     "data": {
      "application/vnd.microsoft.datawrangler.viewer.v0+json": {
       "columns": [
        {
         "name": "index",
         "rawType": "int64",
         "type": "integer"
        },
        {
         "name": "items",
         "rawType": "object",
         "type": "string"
        },
        {
         "name": "color",
         "rawType": "object",
         "type": "string"
        },
        {
         "name": "model",
         "rawType": "object",
         "type": "string"
        },
        {
         "name": "price $",
         "rawType": "int64",
         "type": "integer"
        },
        {
         "name": "origin",
         "rawType": "object",
         "type": "string"
        },
        {
         "name": "quantity",
         "rawType": "int64",
         "type": "integer"
        }
       ],
       "conversionMethod": "pd.DataFrame",
       "ref": "89ebedc3-6774-4ecc-b583-b5fc19e1fe3a",
       "rows": [
        [
         "0",
         "phone",
         "black",
         "Apple",
         "1000",
         "USA",
         "5"
        ],
        [
         "1",
         "laptop",
         "white",
         "Dell",
         "2000",
         "UK",
         "2"
        ],
        [
         "2",
         "ipad",
         "blue",
         "Samsung",
         "3000",
         "China",
         "4"
        ],
        [
         "3",
         "tablet",
         "red",
         "Lenovo",
         "4000",
         "India",
         "1"
        ],
        [
         "4",
         "desktop",
         "green",
         "HP",
         "5000",
         "Japan",
         "9"
        ]
       ],
       "shape": {
        "columns": 6,
        "rows": 5
       }
      },
      "text/html": [
       "<div>\n",
       "<style scoped>\n",
       "    .dataframe tbody tr th:only-of-type {\n",
       "        vertical-align: middle;\n",
       "    }\n",
       "\n",
       "    .dataframe tbody tr th {\n",
       "        vertical-align: top;\n",
       "    }\n",
       "\n",
       "    .dataframe thead th {\n",
       "        text-align: right;\n",
       "    }\n",
       "</style>\n",
       "<table border=\"1\" class=\"dataframe\">\n",
       "  <thead>\n",
       "    <tr style=\"text-align: right;\">\n",
       "      <th></th>\n",
       "      <th>items</th>\n",
       "      <th>color</th>\n",
       "      <th>model</th>\n",
       "      <th>price $</th>\n",
       "      <th>origin</th>\n",
       "      <th>quantity</th>\n",
       "    </tr>\n",
       "  </thead>\n",
       "  <tbody>\n",
       "    <tr>\n",
       "      <th>0</th>\n",
       "      <td>phone</td>\n",
       "      <td>black</td>\n",
       "      <td>Apple</td>\n",
       "      <td>1000</td>\n",
       "      <td>USA</td>\n",
       "      <td>5</td>\n",
       "    </tr>\n",
       "    <tr>\n",
       "      <th>1</th>\n",
       "      <td>laptop</td>\n",
       "      <td>white</td>\n",
       "      <td>Dell</td>\n",
       "      <td>2000</td>\n",
       "      <td>UK</td>\n",
       "      <td>2</td>\n",
       "    </tr>\n",
       "    <tr>\n",
       "      <th>2</th>\n",
       "      <td>ipad</td>\n",
       "      <td>blue</td>\n",
       "      <td>Samsung</td>\n",
       "      <td>3000</td>\n",
       "      <td>China</td>\n",
       "      <td>4</td>\n",
       "    </tr>\n",
       "    <tr>\n",
       "      <th>3</th>\n",
       "      <td>tablet</td>\n",
       "      <td>red</td>\n",
       "      <td>Lenovo</td>\n",
       "      <td>4000</td>\n",
       "      <td>India</td>\n",
       "      <td>1</td>\n",
       "    </tr>\n",
       "    <tr>\n",
       "      <th>4</th>\n",
       "      <td>desktop</td>\n",
       "      <td>green</td>\n",
       "      <td>HP</td>\n",
       "      <td>5000</td>\n",
       "      <td>Japan</td>\n",
       "      <td>9</td>\n",
       "    </tr>\n",
       "  </tbody>\n",
       "</table>\n",
       "</div>"
      ],
      "text/plain": [
       "     items  color    model  price $ origin  quantity\n",
       "0    phone  black    Apple     1000    USA         5\n",
       "1   laptop  white     Dell     2000     UK         2\n",
       "2     ipad   blue  Samsung     3000  China         4\n",
       "3   tablet    red   Lenovo     4000  India         1\n",
       "4  desktop  green       HP     5000  Japan         9"
      ]
     },
     "execution_count": 27,
     "metadata": {},
     "output_type": "execute_result"
    }
   ],
   "source": [
    "stock={'items':['phone', 'laptop', 'ipad', 'tablet', 'desktop'],\n",
    "'color':['black', 'white', 'blue', 'red', 'green'],\n",
    "'model':['Apple', 'Dell', 'Samsung', 'Lenovo', 'HP'],\n",
    "'price $':[1000, 2000, 3000, 4000, 5000],\n",
    "'origin':['USA', 'UK', 'China', 'India', 'Japan'],\n",
    "'quantity':[5, 2, 4,1,9]}\n",
    "\n",
    "import pandas as pd\n",
    "pd.DataFrame(stock)\n",
    "#csv_filename='stock.csv'\n"
   ]
  }
 ],
 "metadata": {
  "kernelspec": {
   "display_name": "Python 3",
   "language": "python",
   "name": "python3"
  },
  "language_info": {
   "codemirror_mode": {
    "name": "ipython",
    "version": 3
   },
   "file_extension": ".py",
   "mimetype": "text/x-python",
   "name": "python",
   "nbconvert_exporter": "python",
   "pygments_lexer": "ipython3",
   "version": "3.11.9"
  }
 },
 "nbformat": 4,
 "nbformat_minor": 5
}
