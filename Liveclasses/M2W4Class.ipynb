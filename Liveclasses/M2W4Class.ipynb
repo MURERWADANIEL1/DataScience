{
 "cells": [
  {
   "cell_type": "markdown",
   "id": "7cd16141",
   "metadata": {},
   "source": [
    "SETS"
   ]
  },
  {
   "cell_type": "code",
   "execution_count": 2,
   "id": "8a30612b",
   "metadata": {},
   "outputs": [
    {
     "data": {
      "text/plain": [
       "False"
      ]
     },
     "execution_count": 2,
     "metadata": {},
     "output_type": "execute_result"
    }
   ],
   "source": [
    "class_set={'Divine', 'Fallen', 'Fallen Angel', 'Fallen God', 'Fallen Hero', 'Fallen One', 'Fallen Star', 'Fallen Warrior', 'Hero', 'Heroine', 'Legendary Hero', 'Legendary Heroine', 'Legendary Warrior', 'Legendary Warrior Princess', 'Legendary Warrior Queen', 'Legendary Warrior King', 'Legendary Warrior Prince', 'Legendary Warrior Princess of the Night', 'Legendary Warrior Queen of the Night'}\n",
    "class_set\n",
    "'divine' in class_set"
   ]
  },
  {
   "cell_type": "code",
   "execution_count": 6,
   "id": "47995596",
   "metadata": {},
   "outputs": [
    {
     "data": {
      "text/plain": [
       "{'Ann'}"
      ]
     },
     "execution_count": 6,
     "metadata": {},
     "output_type": "execute_result"
    }
   ],
   "source": [
    "chemistry_students={'Ann', 'Bob', 'Charlie'}\n",
    "\n",
    "biology_students={'Bob', 'Charlie', 'David'}\n",
    "\n",
    "chemistry_students.intersection(biology_students)\n",
    "\n",
    "chemistry_students.difference(biology_students)\n"
   ]
  },
  {
   "cell_type": "markdown",
   "id": "bbfb2e07",
   "metadata": {},
   "source": [
    "sets used to remove duplicates\n",
    "\n"
   ]
  },
  {
   "cell_type": "code",
   "execution_count": 10,
   "id": "6a5d5114",
   "metadata": {},
   "outputs": [
    {
     "data": {
      "text/plain": [
       "{'Ann', 'Bob', 'Charlie', 'Sam'}"
      ]
     },
     "execution_count": 10,
     "metadata": {},
     "output_type": "execute_result"
    }
   ],
   "source": [
    "dup_list=['Ann', 'Bob', 'Charlie', 'Ann', 'Bob', 'Charlie', 'Sam']\n",
    "dup_list\n",
    "dup_set=set(dup_list)\n",
    "dup_set"
   ]
  },
  {
   "cell_type": "markdown",
   "id": "c95b5ec8",
   "metadata": {},
   "source": [
    "while loops"
   ]
  },
  {
   "cell_type": "code",
   "execution_count": 14,
   "id": "2a0f1b4f",
   "metadata": {},
   "outputs": [
    {
     "name": "stdout",
     "output_type": "stream",
     "text": [
      "Laker\n",
      "Quit\n",
      "quit\n"
     ]
    }
   ],
   "source": [
    "response=''\n",
    "\n",
    "while response !='quit':\n",
    "    response=input(\"Your Nme? type \\\"quit\\\" to exit:\")\n",
    "    print(response)\n"
   ]
  },
  {
   "cell_type": "markdown",
   "id": "ee8afdca",
   "metadata": {},
   "source": [
    "break within while loops"
   ]
  },
  {
   "cell_type": "code",
   "execution_count": 16,
   "id": "547e5be7",
   "metadata": {},
   "outputs": [
    {
     "name": "stdout",
     "output_type": "stream",
     "text": [
      "Jenn\n"
     ]
    }
   ],
   "source": [
    "response=''\n",
    "\n",
    "while True:\n",
    "    response=input(\"Your Nme? type \\\"quit\\\" to exit:\")\n",
    "    if response=='quit':\n",
    "        break\n",
    "    print(response)\n"
   ]
  },
  {
   "cell_type": "markdown",
   "id": "fe26c74e",
   "metadata": {},
   "source": [
    "create empty dictionary\n",
    "populate dictionary with item/quantity\n",
    "read dictionary\n",
    "update dictionary\n",
    "delete item from dictionary"
   ]
  },
  {
   "cell_type": "code",
   "execution_count": 1,
   "id": "d1c21480",
   "metadata": {},
   "outputs": [],
   "source": [
    "import pandas as pd\n",
    "inventory={}"
   ]
  },
  {
   "cell_type": "code",
   "execution_count": 9,
   "id": "7ff881d5",
   "metadata": {},
   "outputs": [],
   "source": [
    "#create dictionary for inventory\n",
    "\n",
    "item_name=input(\"Enter item name of item:\")\n",
    "quantity=input(f\"Enter the quantity for {item_name}:\")\n",
    "\n",
    "inventory[item_name]=quantity\n"
   ]
  },
  {
   "cell_type": "code",
   "execution_count": 10,
   "id": "b5387610",
   "metadata": {},
   "outputs": [
    {
     "name": "stdout",
     "output_type": "stream",
     "text": [
      "{'pot': '145', 'Spoons': '675', 'Cooker': '2', 'Sufuria': '76', 'Spices': '65', 'Gas Cylinders': '3', 'Dishes': '56'}\n"
     ]
    }
   ],
   "source": [
    "print(inventory)"
   ]
  },
  {
   "cell_type": "code",
   "execution_count": 11,
   "id": "0e8ae192",
   "metadata": {},
   "outputs": [
    {
     "data": {
      "application/vnd.microsoft.datawrangler.viewer.v0+json": {
       "columns": [
        {
         "name": "index",
         "rawType": "int64",
         "type": "integer"
        },
        {
         "name": "item",
         "rawType": "object",
         "type": "string"
        },
        {
         "name": "quantity",
         "rawType": "object",
         "type": "string"
        }
       ],
       "conversionMethod": "pd.DataFrame",
       "ref": "b09f5ddd-273c-4473-a06f-01a5b0701c3f",
       "rows": [
        [
         "0",
         "pot",
         "145"
        ],
        [
         "1",
         "Spoons",
         "675"
        ],
        [
         "2",
         "Cooker",
         "2"
        ],
        [
         "3",
         "Sufuria",
         "76"
        ],
        [
         "4",
         "Spices",
         "65"
        ],
        [
         "5",
         "Gas Cylinders",
         "3"
        ],
        [
         "6",
         "Dishes",
         "56"
        ]
       ],
       "shape": {
        "columns": 2,
        "rows": 7
       }
      },
      "text/html": [
       "<div>\n",
       "<style scoped>\n",
       "    .dataframe tbody tr th:only-of-type {\n",
       "        vertical-align: middle;\n",
       "    }\n",
       "\n",
       "    .dataframe tbody tr th {\n",
       "        vertical-align: top;\n",
       "    }\n",
       "\n",
       "    .dataframe thead th {\n",
       "        text-align: right;\n",
       "    }\n",
       "</style>\n",
       "<table border=\"1\" class=\"dataframe\">\n",
       "  <thead>\n",
       "    <tr style=\"text-align: right;\">\n",
       "      <th></th>\n",
       "      <th>item</th>\n",
       "      <th>quantity</th>\n",
       "    </tr>\n",
       "  </thead>\n",
       "  <tbody>\n",
       "    <tr>\n",
       "      <th>0</th>\n",
       "      <td>pot</td>\n",
       "      <td>145</td>\n",
       "    </tr>\n",
       "    <tr>\n",
       "      <th>1</th>\n",
       "      <td>Spoons</td>\n",
       "      <td>675</td>\n",
       "    </tr>\n",
       "    <tr>\n",
       "      <th>2</th>\n",
       "      <td>Cooker</td>\n",
       "      <td>2</td>\n",
       "    </tr>\n",
       "    <tr>\n",
       "      <th>3</th>\n",
       "      <td>Sufuria</td>\n",
       "      <td>76</td>\n",
       "    </tr>\n",
       "    <tr>\n",
       "      <th>4</th>\n",
       "      <td>Spices</td>\n",
       "      <td>65</td>\n",
       "    </tr>\n",
       "    <tr>\n",
       "      <th>5</th>\n",
       "      <td>Gas Cylinders</td>\n",
       "      <td>3</td>\n",
       "    </tr>\n",
       "    <tr>\n",
       "      <th>6</th>\n",
       "      <td>Dishes</td>\n",
       "      <td>56</td>\n",
       "    </tr>\n",
       "  </tbody>\n",
       "</table>\n",
       "</div>"
      ],
      "text/plain": [
       "            item quantity\n",
       "0            pot      145\n",
       "1         Spoons      675\n",
       "2         Cooker        2\n",
       "3        Sufuria       76\n",
       "4         Spices       65\n",
       "5  Gas Cylinders        3\n",
       "6         Dishes       56"
      ]
     },
     "execution_count": 11,
     "metadata": {},
     "output_type": "execute_result"
    }
   ],
   "source": [
    "\n",
    "inventory_df= pd.DataFrame(list(inventory.items()),columns= [\"item\",'quantity'])\n",
    "inventory_df"
   ]
  },
  {
   "cell_type": "code",
   "execution_count": 13,
   "id": "57738e49",
   "metadata": {},
   "outputs": [
    {
     "name": "stdout",
     "output_type": "stream",
     "text": [
      "{'pot': '145', 'Spoons': '675', 'Cooker': '2', 'Sufuria': '76', 'Spices': '65', 'Gas Cylinders': '3', 'Dishes': '56', 'Plates': '56', 'Forks': '78'}\n"
     ]
    }
   ],
   "source": [
    "#update dictionaru\n",
    "item_name=input(\"Enter item to update:\")\n",
    "quantity=input(\"Enter quantity of {item_name}: \")\n",
    "\n",
    "inventory[item_name]=quantity\n",
    "\n",
    "print(inventory)"
   ]
  },
  {
   "cell_type": "code",
   "execution_count": 14,
   "id": "947143e6",
   "metadata": {},
   "outputs": [
    {
     "data": {
      "application/vnd.microsoft.datawrangler.viewer.v0+json": {
       "columns": [
        {
         "name": "index",
         "rawType": "int64",
         "type": "integer"
        },
        {
         "name": "item",
         "rawType": "object",
         "type": "string"
        },
        {
         "name": "quantity",
         "rawType": "object",
         "type": "string"
        }
       ],
       "conversionMethod": "pd.DataFrame",
       "ref": "f4cb9a24-9200-4dfb-bfe5-6516dfca45db",
       "rows": [
        [
         "0",
         "pot",
         "145"
        ],
        [
         "1",
         "Spoons",
         "675"
        ],
        [
         "2",
         "Cooker",
         "2"
        ],
        [
         "3",
         "Sufuria",
         "76"
        ],
        [
         "4",
         "Spices",
         "65"
        ],
        [
         "5",
         "Gas Cylinders",
         "3"
        ],
        [
         "6",
         "Dishes",
         "56"
        ],
        [
         "7",
         "Plates",
         "56"
        ],
        [
         "8",
         "Forks",
         "78"
        ]
       ],
       "shape": {
        "columns": 2,
        "rows": 9
       }
      },
      "text/html": [
       "<div>\n",
       "<style scoped>\n",
       "    .dataframe tbody tr th:only-of-type {\n",
       "        vertical-align: middle;\n",
       "    }\n",
       "\n",
       "    .dataframe tbody tr th {\n",
       "        vertical-align: top;\n",
       "    }\n",
       "\n",
       "    .dataframe thead th {\n",
       "        text-align: right;\n",
       "    }\n",
       "</style>\n",
       "<table border=\"1\" class=\"dataframe\">\n",
       "  <thead>\n",
       "    <tr style=\"text-align: right;\">\n",
       "      <th></th>\n",
       "      <th>item</th>\n",
       "      <th>quantity</th>\n",
       "    </tr>\n",
       "  </thead>\n",
       "  <tbody>\n",
       "    <tr>\n",
       "      <th>0</th>\n",
       "      <td>pot</td>\n",
       "      <td>145</td>\n",
       "    </tr>\n",
       "    <tr>\n",
       "      <th>1</th>\n",
       "      <td>Spoons</td>\n",
       "      <td>675</td>\n",
       "    </tr>\n",
       "    <tr>\n",
       "      <th>2</th>\n",
       "      <td>Cooker</td>\n",
       "      <td>2</td>\n",
       "    </tr>\n",
       "    <tr>\n",
       "      <th>3</th>\n",
       "      <td>Sufuria</td>\n",
       "      <td>76</td>\n",
       "    </tr>\n",
       "    <tr>\n",
       "      <th>4</th>\n",
       "      <td>Spices</td>\n",
       "      <td>65</td>\n",
       "    </tr>\n",
       "    <tr>\n",
       "      <th>5</th>\n",
       "      <td>Gas Cylinders</td>\n",
       "      <td>3</td>\n",
       "    </tr>\n",
       "    <tr>\n",
       "      <th>6</th>\n",
       "      <td>Dishes</td>\n",
       "      <td>56</td>\n",
       "    </tr>\n",
       "    <tr>\n",
       "      <th>7</th>\n",
       "      <td>Plates</td>\n",
       "      <td>56</td>\n",
       "    </tr>\n",
       "    <tr>\n",
       "      <th>8</th>\n",
       "      <td>Forks</td>\n",
       "      <td>78</td>\n",
       "    </tr>\n",
       "  </tbody>\n",
       "</table>\n",
       "</div>"
      ],
      "text/plain": [
       "            item quantity\n",
       "0            pot      145\n",
       "1         Spoons      675\n",
       "2         Cooker        2\n",
       "3        Sufuria       76\n",
       "4         Spices       65\n",
       "5  Gas Cylinders        3\n",
       "6         Dishes       56\n",
       "7         Plates       56\n",
       "8          Forks       78"
      ]
     },
     "execution_count": 14,
     "metadata": {},
     "output_type": "execute_result"
    }
   ],
   "source": [
    "inventory_df= pd.DataFrame(list(inventory.items()),columns= [\"item\",'quantity'])\n",
    "inventory_df"
   ]
  },
  {
   "cell_type": "code",
   "execution_count": 35,
   "id": "91eecb6c",
   "metadata": {},
   "outputs": [
    {
     "ename": "SyntaxError",
     "evalue": "invalid syntax (4026243260.py, line 1)",
     "output_type": "error",
     "traceback": [
      "  \u001b[36mCell\u001b[39m\u001b[36m \u001b[39m\u001b[32mIn[35]\u001b[39m\u001b[32m, line 1\u001b[39m\n\u001b[31m    \u001b[39m\u001b[31minventory.update(item_name:quantity)\u001b[39m\n                              ^\n\u001b[31mSyntaxError\u001b[39m\u001b[31m:\u001b[39m invalid syntax\n"
     ]
    }
   ],
   "source": [
    "inventory.update(item_name:quantity)"
   ]
  }
 ],
 "metadata": {
  "kernelspec": {
   "display_name": "Python 3",
   "language": "python",
   "name": "python3"
  },
  "language_info": {
   "codemirror_mode": {
    "name": "ipython",
    "version": 3
   },
   "file_extension": ".py",
   "mimetype": "text/x-python",
   "name": "python",
   "nbconvert_exporter": "python",
   "pygments_lexer": "ipython3",
   "version": "3.11.9"
  }
 },
 "nbformat": 4,
 "nbformat_minor": 5
}
