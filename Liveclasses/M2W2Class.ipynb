{
 "cells": [
  {
   "cell_type": "markdown",
   "id": "2ab4cc24",
   "metadata": {},
   "source": [
    "Handling Numbers"
   ]
  },
  {
   "cell_type": "code",
   "execution_count": 3,
   "id": "5058b753",
   "metadata": {},
   "outputs": [
    {
     "name": "stdout",
     "output_type": "stream",
     "text": [
      "4.0\n"
     ]
    }
   ],
   "source": [
    "#10% of number like 40\n",
    "x=0.1\n",
    "y=40\n",
    "product=x*y\n",
    "print(product)\n"
   ]
  },
  {
   "cell_type": "code",
   "execution_count": 9,
   "id": "539f43d8",
   "metadata": {},
   "outputs": [
    {
     "name": "stdout",
     "output_type": "stream",
     "text": [
      "3.4000000000000004\n"
     ]
    }
   ],
   "source": [
    "x=input(\"Enter a number: \")\n",
    "x=int(x) \n",
    "product1=0.1*x\n",
    "print(product1)\n"
   ]
  },
  {
   "cell_type": "markdown",
   "id": "3fbae2cb",
   "metadata": {},
   "source": [
    "Looping Through List"
   ]
  },
  {
   "cell_type": "code",
   "execution_count": 22,
   "id": "e19bd243",
   "metadata": {},
   "outputs": [
    {
     "name": "stdout",
     "output_type": "stream",
     "text": [
      "['Daniel', 'David', 'Diana', 'Derek', 'Daisy']\n",
      "Thank you for Joining Daniel\n",
      "Thank you for Joining David\n",
      "Thank you for Joining Diana\n",
      "Thank you for Joining Derek\n",
      "Thank you for Joining Daisy\n"
     ]
    },
    {
     "data": {
      "text/plain": [
       "[]"
      ]
     },
     "execution_count": 22,
     "metadata": {},
     "output_type": "execute_result"
    }
   ],
   "source": [
    "class_list=['Daniel', 'David', 'Diana', 'Derek', 'Daisy']\n",
    "print(class_list)\n",
    "for student in class_list:\n",
    "    print(f'Thank you for Joining {student}')  \n",
    "class_list2=[]\n",
    "class_list2"
   ]
  },
  {
   "cell_type": "markdown",
   "id": "809394e1",
   "metadata": {},
   "source": [
    "Range Function"
   ]
  },
  {
   "cell_type": "code",
   "execution_count": 44,
   "id": "2dcbfa44",
   "metadata": {},
   "outputs": [
    {
     "name": "stdout",
     "output_type": "stream",
     "text": [
      "[2, 3, 4, 5, 6, 7, 8, 9]\n",
      "Sqrt of 2 is 1.4142135623730951\n",
      "Sqrt of 3 is 1.7320508075688772\n",
      "Sqrt of 4 is 2.0\n",
      "Sqrt of 5 is 2.23606797749979\n",
      "Sqrt of 6 is 2.449489742783178\n",
      "Sqrt of 7 is 2.6457513110645907\n",
      "Sqrt of 8 is 2.8284271247461903\n",
      "Sqrt of 9 is 3.0\n"
     ]
    }
   ],
   "source": [
    "nums=range(2,10)\n",
    "\n",
    "nums=list(nums)\n",
    "print(nums)\n",
    "\n",
    "for i in range(2,10):\n",
    "    #print(f'Sq of {i} is {i**2}')\n",
    "\n",
    "    #print(f'Cube of {i} is {i**3}')\n",
    "\n",
    "    print(f'Sqrt of {i} is {i**0.5}')\n",
    "\n",
    "\n"
   ]
  },
  {
   "cell_type": "code",
   "execution_count": 46,
   "id": "fded5804",
   "metadata": {},
   "outputs": [
    {
     "name": "stdout",
     "output_type": "stream",
     "text": [
      "5.5\n"
     ]
    }
   ],
   "source": [
    "len(nums)\n",
    "sum(nums)\n",
    "mean=sum(nums)/len(nums)\n",
    "print(mean)"
   ]
  },
  {
   "cell_type": "markdown",
   "id": "cab37976",
   "metadata": {},
   "source": [
    "List Comprehension"
   ]
  },
  {
   "cell_type": "code",
   "execution_count": 54,
   "id": "dcbafed0",
   "metadata": {},
   "outputs": [
    {
     "name": "stdout",
     "output_type": "stream",
     "text": [
      "<generator object <genexpr> at 0x0000020BD6434450>\n",
      "[50, 60, 70, 80, 90]\n",
      "55\n",
      "65\n",
      "75\n",
      "85\n",
      "95\n",
      "[45, 55, 65, 75, 85]\n"
     ]
    }
   ],
   "source": [
    "num_sq=(num**2 for num in nums)\n",
    "print(num_sq)\n",
    "\n",
    "grades=[70, 80, 90, 60, 50]\n",
    "grades.sort()\n",
    "print(grades)\n",
    "for grade in grades:\n",
    "    upgraded_grade=grade+5\n",
    "    print(upgraded_grade)\n",
    "\n",
    "upgrades=[grade-5 for grade in grades]\n",
    "print(upgrades)"
   ]
  },
  {
   "cell_type": "markdown",
   "id": "09c76305",
   "metadata": {},
   "source": [
    "Tuples"
   ]
  },
  {
   "cell_type": "code",
   "execution_count": 65,
   "id": "69093af8",
   "metadata": {},
   "outputs": [
    {
     "name": "stdout",
     "output_type": "stream",
     "text": [
      "(1, 2, 3, 4, 5)\n"
     ]
    },
    {
     "data": {
      "text/plain": [
       "('hat', 'coat', 'shoes', 'attire')"
      ]
     },
     "execution_count": 65,
     "metadata": {},
     "output_type": "execute_result"
    }
   ],
   "source": [
    "my_tuple=(1, 2, 3, 4, 5)\n",
    "print(my_tuple)\n",
    "#dir(my_tuple)\n",
    "#type(my_tuple)\n",
    "items='hat', 'coat', 'shoes'\n",
    "type(items)\n",
    "items2=list(items)\n",
    "type(items2)\n",
    "items2.append('attire')\n",
    "items2\n",
    "items=tuple(items2)\n",
    "items"
   ]
  },
  {
   "cell_type": "code",
   "execution_count": 18,
   "id": "dd4e2e45",
   "metadata": {},
   "outputs": [
    {
     "name": "stdout",
     "output_type": "stream",
     "text": [
      "['Deborah', 'Deborah', 'Dylan', 'Deborah', 'Dylan', 'Deborah', 'Dylan']\n"
     ]
    }
   ],
   "source": [
    "class_list2.append('Deborah')\n",
    "class_list2.append('Dylan')\n",
    "print(class_list2)"
   ]
  },
  {
   "cell_type": "code",
   "execution_count": 10,
   "id": "0592189b",
   "metadata": {},
   "outputs": [
    {
     "data": {
      "text/plain": [
       "1999"
      ]
     },
     "execution_count": 10,
     "metadata": {},
     "output_type": "execute_result"
    }
   ],
   "source": [
    "dob='14/10/1999'\n",
    "year=dob[6:]\n",
    "year=int(year)\n",
    "year"
   ]
  }
 ],
 "metadata": {
  "kernelspec": {
   "display_name": "Python 3",
   "language": "python",
   "name": "python3"
  },
  "language_info": {
   "codemirror_mode": {
    "name": "ipython",
    "version": 3
   },
   "file_extension": ".py",
   "mimetype": "text/x-python",
   "name": "python",
   "nbconvert_exporter": "python",
   "pygments_lexer": "ipython3",
   "version": "3.11.9"
  }
 },
 "nbformat": 4,
 "nbformat_minor": 5
}
